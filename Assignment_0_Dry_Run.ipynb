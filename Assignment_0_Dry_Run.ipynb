{
  "cells": [
    {
      "cell_type": "markdown",
      "metadata": {
        "id": "view-in-github",
        "colab_type": "text"
      },
      "source": [
        "<a href=\"https://colab.research.google.com/github/TseTen04/foundations-data-science/blob/master/Assignment_0_Dry_Run.ipynb\" target=\"_parent\"><img src=\"https://colab.research.google.com/assets/colab-badge.svg\" alt=\"Open In Colab\"/></a>"
      ]
    },
    {
      "cell_type": "markdown",
      "id": "a04bb71e",
      "metadata": {
        "id": "a04bb71e"
      },
      "source": [
        "# Math\n",
        "\n",
        "There are four cells below. In each cell, perform one operation each of addition, subtraction, multiplication, and division."
      ]
    },
    {
      "cell_type": "code",
      "execution_count": null,
      "id": "ee549a32",
      "metadata": {
        "colab": {
          "base_uri": "https://localhost:8080/"
        },
        "id": "ee549a32",
        "outputId": "acbfe244-ba7a-4dba-a37a-f8587711d594"
      },
      "outputs": [
        {
          "output_type": "execute_result",
          "data": {
            "text/plain": [
              "8"
            ]
          },
          "metadata": {},
          "execution_count": 2
        }
      ],
      "source": [
        "4 + 4"
      ]
    },
    {
      "cell_type": "code",
      "execution_count": null,
      "id": "fbae5830",
      "metadata": {
        "colab": {
          "base_uri": "https://localhost:8080/"
        },
        "id": "fbae5830",
        "outputId": "6432ab13-5141-4708-b743-9b02473d9282"
      },
      "outputs": [
        {
          "output_type": "execute_result",
          "data": {
            "text/plain": [
              "3"
            ]
          },
          "metadata": {},
          "execution_count": 3
        }
      ],
      "source": [
        "5 - 2"
      ]
    },
    {
      "cell_type": "code",
      "execution_count": null,
      "id": "510012d5",
      "metadata": {
        "colab": {
          "base_uri": "https://localhost:8080/"
        },
        "id": "510012d5",
        "outputId": "8fc2c32a-4957-40b5-c1d7-95ce4ec02ab6"
      },
      "outputs": [
        {
          "output_type": "execute_result",
          "data": {
            "text/plain": [
              "8"
            ]
          },
          "metadata": {},
          "execution_count": 4
        }
      ],
      "source": [
        "4 * 2"
      ]
    },
    {
      "cell_type": "code",
      "execution_count": null,
      "id": "02670f38",
      "metadata": {
        "colab": {
          "base_uri": "https://localhost:8080/"
        },
        "id": "02670f38",
        "outputId": "2d609c47-1ddb-4b42-89a9-e24684ca757b"
      },
      "outputs": [
        {
          "output_type": "execute_result",
          "data": {
            "text/plain": [
              "2.0"
            ]
          },
          "metadata": {},
          "execution_count": 5
        }
      ],
      "source": [
        "4 / 2"
      ]
    },
    {
      "cell_type": "markdown",
      "id": "a06efe4f",
      "metadata": {
        "id": "a06efe4f"
      },
      "source": [
        "# Variables\n",
        "\n",
        "In the following cell, assign two variables, then perform some operation on both. (For example, you could add them together.)"
      ]
    },
    {
      "cell_type": "code",
      "execution_count": null,
      "id": "a6f79b92",
      "metadata": {
        "id": "a6f79b92"
      },
      "outputs": [],
      "source": [
        "x = 4"
      ]
    },
    {
      "cell_type": "markdown",
      "id": "f27c51d6",
      "metadata": {
        "id": "f27c51d6"
      },
      "source": [
        "# Comparison\n",
        "\n",
        "In the following cell, compare two variables so that the output is True. (You can use >, <, == or any other comparison.)"
      ]
    },
    {
      "cell_type": "code",
      "execution_count": null,
      "id": "f03eec1c",
      "metadata": {
        "colab": {
          "base_uri": "https://localhost:8080/"
        },
        "id": "f03eec1c",
        "outputId": "1e5d8358-caa6-490a-b768-506ceee96dd9"
      },
      "outputs": [
        {
          "output_type": "execute_result",
          "data": {
            "text/plain": [
              "True"
            ]
          },
          "metadata": {},
          "execution_count": 7
        }
      ],
      "source": [
        "5 > 2"
      ]
    },
    {
      "cell_type": "markdown",
      "id": "fa6232bd",
      "metadata": {
        "id": "fa6232bd"
      },
      "source": [
        "In the following cell, perform a comparison for which the output is False."
      ]
    },
    {
      "cell_type": "code",
      "execution_count": null,
      "id": "4ae5251d",
      "metadata": {
        "colab": {
          "base_uri": "https://localhost:8080/"
        },
        "id": "4ae5251d",
        "outputId": "a206e2a9-6deb-47ec-e94a-86e7f2b63819"
      },
      "outputs": [
        {
          "output_type": "execute_result",
          "data": {
            "text/plain": [
              "False"
            ]
          },
          "metadata": {},
          "execution_count": 8
        }
      ],
      "source": [
        "5 == 3"
      ]
    },
    {
      "cell_type": "markdown",
      "id": "8cab8764",
      "metadata": {
        "id": "8cab8764"
      },
      "source": [
        "# Conditionals\n",
        "\n",
        "In the cell below, write an \"if\" statement that ends in an \"else\" statement."
      ]
    },
    {
      "cell_type": "code",
      "execution_count": null,
      "id": "f7523751",
      "metadata": {
        "colab": {
          "base_uri": "https://localhost:8080/"
        },
        "id": "f7523751",
        "outputId": "fc21c136-a4dc-4ee0-cfb1-69d01c448126"
      },
      "outputs": [
        {
          "output_type": "stream",
          "name": "stdout",
          "text": [
            "y\n"
          ]
        }
      ],
      "source": [
        "x = 2\n",
        "y = 10\n",
        "print(\"X\") if x > y else print(\"y\")"
      ]
    },
    {
      "cell_type": "markdown",
      "id": "9d28b502",
      "metadata": {
        "id": "9d28b502"
      },
      "source": [
        "# Loops\n",
        "\n",
        "In the cell below, a list is defined with five numbers. In the cell after the list, write a for loop that adds 10 to each number and prints the output.\n",
        "\n",
        "Don't forget to run the cell with the list in it, or it won't get loaded into the computer's memory."
      ]
    },
    {
      "cell_type": "code",
      "execution_count": null,
      "id": "e3031a71",
      "metadata": {
        "id": "e3031a71"
      },
      "outputs": [],
      "source": [
        "numbers = [5, 7, 15, 30, 33]"
      ]
    },
    {
      "cell_type": "code",
      "execution_count": null,
      "id": "85e7f5c8",
      "metadata": {
        "colab": {
          "base_uri": "https://localhost:8080/"
        },
        "id": "85e7f5c8",
        "outputId": "dde6d90c-733b-46a5-ce11-0af6b75210d0"
      },
      "outputs": [
        {
          "output_type": "stream",
          "name": "stdout",
          "text": [
            "x\n"
          ]
        }
      ],
      "source": [
        "x = 0\n",
        "if  x < 100: \n",
        " print(\"x\")"
      ]
    },
    {
      "cell_type": "code",
      "source": [],
      "metadata": {
        "id": "RulprG2F4hpX"
      },
      "id": "RulprG2F4hpX",
      "execution_count": null,
      "outputs": []
    }
  ],
  "metadata": {
    "kernelspec": {
      "display_name": "Python 3",
      "language": "python",
      "name": "python3"
    },
    "language_info": {
      "codemirror_mode": {
        "name": "ipython",
        "version": 3
      },
      "file_extension": ".py",
      "mimetype": "text/x-python",
      "name": "python",
      "nbconvert_exporter": "python",
      "pygments_lexer": "ipython3",
      "version": "3.8.8"
    },
    "colab": {
      "provenance": [],
      "include_colab_link": true
    }
  },
  "nbformat": 4,
  "nbformat_minor": 5
}