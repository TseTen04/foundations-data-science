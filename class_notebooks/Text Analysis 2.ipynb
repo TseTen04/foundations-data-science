{
 "cells": [
  {
   "cell_type": "code",
   "execution_count": 1,
   "id": "b9a997b9",
   "metadata": {},
   "outputs": [],
   "source": [
    "import pandas\n",
    "import requests"
   ]
  },
  {
   "cell_type": "code",
   "execution_count": 3,
   "id": "70f1959b",
   "metadata": {},
   "outputs": [],
   "source": [
    "response = requests.get('http://bit.ly/dracula_text')"
   ]
  },
  {
   "cell_type": "code",
   "execution_count": 10,
   "id": "0bf756a2",
   "metadata": {},
   "outputs": [],
   "source": [
    "raw_text = response.text"
   ]
  },
  {
   "cell_type": "code",
   "execution_count": 16,
   "id": "79e29742",
   "metadata": {},
   "outputs": [
    {
     "data": {
      "text/plain": [
       "881473"
      ]
     },
     "execution_count": 16,
     "metadata": {},
     "output_type": "execute_result"
    }
   ],
   "source": [
    "# Character count\n",
    "len(raw_text) "
   ]
  },
  {
   "cell_type": "code",
   "execution_count": 18,
   "id": "f15a12aa",
   "metadata": {},
   "outputs": [],
   "source": [
    "word_list = raw_text.split()"
   ]
  },
  {
   "cell_type": "code",
   "execution_count": 22,
   "id": "a54ff117",
   "metadata": {},
   "outputs": [
    {
     "data": {
      "text/plain": [
       "5.36143178638769"
      ]
     },
     "execution_count": 22,
     "metadata": {},
     "output_type": "execute_result"
    }
   ],
   "source": [
    "# Average word length\n",
    "len(raw_text) / len(word_list) "
   ]
  },
  {
   "cell_type": "code",
   "execution_count": 32,
   "id": "cd3acd68",
   "metadata": {},
   "outputs": [
    {
     "data": {
      "text/plain": [
       "False"
      ]
     },
     "execution_count": 32,
     "metadata": {},
     "output_type": "execute_result"
    }
   ],
   "source": [
    "word = 'helsing'\n",
    "word in word_list"
   ]
  },
  {
   "cell_type": "code",
   "execution_count": 36,
   "id": "52dc2100",
   "metadata": {},
   "outputs": [],
   "source": [
    "sentence_list = raw_text.split('.')"
   ]
  },
  {
   "cell_type": "code",
   "execution_count": 41,
   "id": "81a2beeb",
   "metadata": {},
   "outputs": [],
   "source": [
    "word_series = pandas.Series(word_list)"
   ]
  },
  {
   "cell_type": "code",
   "execution_count": 47,
   "id": "2e723412",
   "metadata": {},
   "outputs": [
    {
     "data": {
      "text/plain": [
       "True"
      ]
     },
     "execution_count": 47,
     "metadata": {},
     "output_type": "execute_result"
    }
   ],
   "source": [
    "len(word_list) == len(word_series)"
   ]
  },
  {
   "cell_type": "code",
   "execution_count": 49,
   "id": "c9c7f625",
   "metadata": {},
   "outputs": [
    {
     "data": {
      "text/plain": [
       "164410"
      ]
     },
     "execution_count": 49,
     "metadata": {},
     "output_type": "execute_result"
    }
   ],
   "source": [
    "len(word_series)"
   ]
  },
  {
   "cell_type": "code",
   "execution_count": 50,
   "id": "5ef247c7",
   "metadata": {},
   "outputs": [
    {
     "data": {
      "text/plain": [
       "19013"
      ]
     },
     "execution_count": 50,
     "metadata": {},
     "output_type": "execute_result"
    }
   ],
   "source": [
    "len(word_series.unique())"
   ]
  },
  {
   "cell_type": "code",
   "execution_count": 53,
   "id": "ab0168d5",
   "metadata": {},
   "outputs": [],
   "source": [
    "word_lengths = word_series.apply(len)"
   ]
  },
  {
   "cell_type": "code",
   "execution_count": 60,
   "id": "62cc38af",
   "metadata": {},
   "outputs": [],
   "source": [
    "word_lengths.index = word_series"
   ]
  },
  {
   "cell_type": "code",
   "execution_count": 59,
   "id": "687de3a4",
   "metadata": {},
   "outputs": [
    {
     "data": {
      "text/plain": [
       "had        3\n",
       "arrived    7\n",
       "late       4\n",
       "and        3\n",
       "would      5\n",
       "          ..\n",
       "the        3\n",
       "post       4\n",
       "town       4\n",
       "named      5\n",
       "by         2\n",
       "Length: 300, dtype: int64"
      ]
     },
     "execution_count": 59,
     "metadata": {},
     "output_type": "execute_result"
    }
   ],
   "source": [
    "word_lengths[400:700]"
   ]
  },
  {
   "cell_type": "code",
   "execution_count": 62,
   "id": "30a77495",
   "metadata": {},
   "outputs": [
    {
     "data": {
      "text/plain": [
       "4.21758408855909"
      ]
     },
     "execution_count": 62,
     "metadata": {},
     "output_type": "execute_result"
    }
   ],
   "source": [
    "word_lengths.mean()"
   ]
  },
  {
   "cell_type": "code",
   "execution_count": 64,
   "id": "ad8fca74",
   "metadata": {},
   "outputs": [
    {
     "data": {
      "text/plain": [
       "count    164410.000000\n",
       "mean          4.217584\n",
       "std           2.323639\n",
       "min           1.000000\n",
       "25%           3.000000\n",
       "50%           4.000000\n",
       "75%           5.000000\n",
       "max          54.000000\n",
       "dtype: float64"
      ]
     },
     "execution_count": 64,
     "metadata": {},
     "output_type": "execute_result"
    }
   ],
   "source": [
    "word_lengths.describe()"
   ]
  },
  {
   "cell_type": "code",
   "execution_count": null,
   "id": "c44376c2",
   "metadata": {},
   "outputs": [],
   "source": []
  },
  {
   "cell_type": "code",
   "execution_count": 74,
   "id": "c4fd3307",
   "metadata": {},
   "outputs": [],
   "source": [
    "word_series = word_series.str.lower()"
   ]
  },
  {
   "cell_type": "code",
   "execution_count": 83,
   "id": "a2067af7",
   "metadata": {},
   "outputs": [
    {
     "data": {
      "text/plain": [
       "9"
      ]
     },
     "execution_count": 83,
     "metadata": {},
     "output_type": "execute_result"
    }
   ],
   "source": [
    "telegraph_bools = word_series.str.contains('telegraph')\n",
    "telegraph = word_series[telegraph_bools]\n",
    "\n",
    "len(telegraph)"
   ]
  },
  {
   "cell_type": "code",
   "execution_count": 86,
   "id": "fd63fb63",
   "metadata": {},
   "outputs": [],
   "source": [
    "import nltk"
   ]
  },
  {
   "cell_type": "code",
   "execution_count": null,
   "id": "6187c9ef",
   "metadata": {},
   "outputs": [],
   "source": []
  },
  {
   "cell_type": "code",
   "execution_count": null,
   "id": "b5539ac4",
   "metadata": {},
   "outputs": [],
   "source": []
  },
  {
   "cell_type": "code",
   "execution_count": null,
   "id": "f2f92ea2",
   "metadata": {},
   "outputs": [],
   "source": []
  },
  {
   "cell_type": "code",
   "execution_count": null,
   "id": "9fd9ebcb",
   "metadata": {},
   "outputs": [],
   "source": []
  }
 ],
 "metadata": {
  "kernelspec": {
   "display_name": "Python 3",
   "language": "python",
   "name": "python3"
  },
  "language_info": {
   "codemirror_mode": {
    "name": "ipython",
    "version": 3
   },
   "file_extension": ".py",
   "mimetype": "text/x-python",
   "name": "python",
   "nbconvert_exporter": "python",
   "pygments_lexer": "ipython3",
   "version": "3.8.8"
  }
 },
 "nbformat": 4,
 "nbformat_minor": 5
}
