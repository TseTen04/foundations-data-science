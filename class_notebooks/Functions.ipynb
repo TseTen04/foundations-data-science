{
 "cells": [
  {
   "cell_type": "markdown",
   "id": "de19c976",
   "metadata": {},
   "source": [
    "# Using Functions Review"
   ]
  },
  {
   "cell_type": "markdown",
   "id": "2ed65858",
   "metadata": {},
   "source": [
    "We've used a number of functions in class for far, including type(), print(), and len()."
   ]
  },
  {
   "cell_type": "markdown",
   "id": "f4ae95f6",
   "metadata": {},
   "source": [
    "`type()` tells what type an object is."
   ]
  },
  {
   "cell_type": "code",
   "execution_count": 2,
   "id": "65619e5f",
   "metadata": {},
   "outputs": [
    {
     "data": {
      "text/plain": [
       "bool"
      ]
     },
     "execution_count": 2,
     "metadata": {},
     "output_type": "execute_result"
    }
   ],
   "source": [
    "type(True)"
   ]
  },
  {
   "cell_type": "markdown",
   "id": "62e9f13c",
   "metadata": {},
   "source": [
    "`print()` shows us the input as a side effect\n"
   ]
  },
  {
   "cell_type": "code",
   "execution_count": 3,
   "id": "5419a45f",
   "metadata": {},
   "outputs": [
    {
     "name": "stdout",
     "output_type": "stream",
     "text": [
      "hello\n"
     ]
    }
   ],
   "source": [
    "print('hello')"
   ]
  },
  {
   "cell_type": "markdown",
   "id": "954dad8f",
   "metadata": {},
   "source": [
    "Some functions transform the input, returning it as an output. Others perform actions unrelated to returning output, which are called side effects. The exit() function ends the current Python process as a side eeffect. (To try it out, remove the hashtag from the code below and run the cell.)"
   ]
  },
  {
   "cell_type": "code",
   "execution_count": 1,
   "id": "077d843c",
   "metadata": {},
   "outputs": [],
   "source": [
    "# exit()"
   ]
  },
  {
   "cell_type": "markdown",
   "id": "359e6827",
   "metadata": {},
   "source": [
    "# Writing a Function"
   ]
  },
  {
   "cell_type": "markdown",
   "id": "9756fcc7",
   "metadata": {},
   "source": [
    "We use the `def` keyword to define a function. The variable name in the parantheses represents the input. The return statement determines what the output will be."
   ]
  },
  {
   "cell_type": "code",
   "execution_count": 3,
   "id": "12d63fee",
   "metadata": {},
   "outputs": [],
   "source": [
    "def add_ten(number):\n",
    "    \"\"\"Add ten to any number.\"\"\"\"\"\n",
    "    return number + 10"
   ]
  },
  {
   "cell_type": "code",
   "execution_count": 5,
   "id": "4cdac483",
   "metadata": {},
   "outputs": [
    {
     "data": {
      "text/plain": [
       "50"
      ]
     },
     "execution_count": 5,
     "metadata": {},
     "output_type": "execute_result"
    }
   ],
   "source": [
    "add_ten(40)"
   ]
  },
  {
   "cell_type": "code",
   "execution_count": 7,
   "id": "371fceb9",
   "metadata": {},
   "outputs": [
    {
     "data": {
      "text/plain": [
       "90010"
      ]
     },
     "execution_count": 7,
     "metadata": {},
     "output_type": "execute_result"
    }
   ],
   "source": [
    "add_ten(90000)"
   ]
  },
  {
   "cell_type": "code",
   "execution_count": 8,
   "id": "f0249ccb",
   "metadata": {},
   "outputs": [],
   "source": [
    "def multiply_three_numbers(x, y, z):\n",
    "    product = x * y * z\n",
    "    return product"
   ]
  },
  {
   "cell_type": "code",
   "execution_count": 11,
   "id": "c715678d",
   "metadata": {},
   "outputs": [
    {
     "data": {
      "text/plain": [
       "20000"
      ]
     },
     "execution_count": 11,
     "metadata": {},
     "output_type": "execute_result"
    }
   ],
   "source": [
    "multiply_three_numbers(10, 20, 100)"
   ]
  },
  {
   "cell_type": "code",
   "execution_count": 19,
   "id": "0cc87b7e",
   "metadata": {},
   "outputs": [],
   "source": [
    "def i_like(*things):\n",
    "    \"\"\"Take any number of arguments and say that I like all of them\"\"\"\"\"\n",
    "    for thing in things:\n",
    "        print('i like' + thing)"
   ]
  },
  {
   "cell_type": "code",
   "execution_count": 20,
   "id": "62125063",
   "metadata": {},
   "outputs": [
    {
     "name": "stdout",
     "output_type": "stream",
     "text": [
      "i likecoffee\n",
      "i likehamburgers\n",
      "i likeboring music\n"
     ]
    }
   ],
   "source": [
    "i_like('coffee', 'hamburgers', 'boring music')"
   ]
  },
  {
   "cell_type": "markdown",
   "id": "66a75810",
   "metadata": {},
   "source": [
    "# Exercise: Write a Function\n",
    "\n",
    "Your function should take 1 or more arguments, transform them in some way, and returns it."
   ]
  },
  {
   "cell_type": "code",
   "execution_count": null,
   "id": "8797d92e",
   "metadata": {},
   "outputs": [],
   "source": []
  }
 ],
 "metadata": {
  "kernelspec": {
   "display_name": "Python 3",
   "language": "python",
   "name": "python3"
  },
  "language_info": {
   "codemirror_mode": {
    "name": "ipython",
    "version": 3
   },
   "file_extension": ".py",
   "mimetype": "text/x-python",
   "name": "python",
   "nbconvert_exporter": "python",
   "pygments_lexer": "ipython3",
   "version": "3.8.8"
  }
 },
 "nbformat": 4,
 "nbformat_minor": 5
}
