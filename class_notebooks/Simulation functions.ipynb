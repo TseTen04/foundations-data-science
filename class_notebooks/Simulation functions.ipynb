{
 "cells": [
  {
   "cell_type": "code",
   "execution_count": 2,
   "id": "96ffe76c",
   "metadata": {},
   "outputs": [],
   "source": [
    "import pandas\n",
    "import random\n"
   ]
  },
  {
   "cell_type": "code",
   "execution_count": null,
   "id": "19b54db6",
   "metadata": {},
   "outputs": [],
   "source": [
    "\n",
    "\n",
    "def roll_dice(iterations=1):\n",
    "    total = 0\n",
    "\n",
    "    for iteration in range(iterations):\n",
    "        total += random.randint(1, 6) \n",
    "\n",
    "    return total\n",
    "\n",
    "\n",
    "def run_simulation(iterations=500):\n",
    "    \"\"\"Run simulation ITERATIONS times.\"\"\"\n",
    "\n",
    "    out = []\n",
    "\n",
    "    for iteration in range(iterations):\n",
    "        out.append(roll_dice(2))\n",
    "\n",
    "    return pandas.Series(out)\n",
    "\n",
    "\n",
    "results = run_simulation(iterations=10)\n",
    "\n",
    "print(results.value_counts())\n"
   ]
  },
  {
   "cell_type": "code",
   "execution_count": null,
   "id": "30f773fd",
   "metadata": {},
   "outputs": [],
   "source": []
  }
 ],
 "metadata": {
  "kernelspec": {
   "display_name": "Python 3",
   "language": "python",
   "name": "python3"
  },
  "language_info": {
   "codemirror_mode": {
    "name": "ipython",
    "version": 3
   },
   "file_extension": ".py",
   "mimetype": "text/x-python",
   "name": "python",
   "nbconvert_exporter": "python",
   "pygments_lexer": "ipython3",
   "version": "3.8.8"
  }
 },
 "nbformat": 4,
 "nbformat_minor": 5
}
