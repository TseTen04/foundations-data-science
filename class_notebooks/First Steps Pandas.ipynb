{
 "cells": [
  {
   "cell_type": "code",
   "execution_count": 16,
   "id": "4e6c161e",
   "metadata": {},
   "outputs": [],
   "source": [
    "import pandas"
   ]
  },
  {
   "cell_type": "code",
   "execution_count": 19,
   "id": "34bd5001",
   "metadata": {},
   "outputs": [],
   "source": [
    "books = ['Harry Potter', 'Twilight', 'Hunger Games']"
   ]
  },
  {
   "cell_type": "code",
   "execution_count": 20,
   "id": "a04cf50a",
   "metadata": {},
   "outputs": [
    {
     "data": {
      "text/plain": [
       "0    Harry Potter\n",
       "1        Twilight\n",
       "2    Hunger Games\n",
       "dtype: object"
      ]
     },
     "execution_count": 20,
     "metadata": {},
     "output_type": "execute_result"
    }
   ],
   "source": [
    "book_series = pandas.Series(books)\n",
    "\n",
    "book_series"
   ]
  },
  {
   "cell_type": "code",
   "execution_count": 22,
   "id": "58b2d74c",
   "metadata": {},
   "outputs": [
    {
     "data": {
      "text/plain": [
       "0     50\n",
       "1    100\n",
       "2     45\n",
       "3     10\n",
       "4     10\n",
       "dtype: int64"
      ]
     },
     "execution_count": 22,
     "metadata": {},
     "output_type": "execute_result"
    }
   ],
   "source": [
    "budget = [50, 100, 45, 10, 10]\n",
    "\n",
    "budget_series = pandas.Series(budget)\n",
    "\n",
    "budget_series"
   ]
  },
  {
   "cell_type": "code",
   "execution_count": 25,
   "id": "28020852",
   "metadata": {},
   "outputs": [
    {
     "data": {
      "text/plain": [
       "43.0"
      ]
     },
     "execution_count": 25,
     "metadata": {},
     "output_type": "execute_result"
    }
   ],
   "source": [
    "budget_series.mean()"
   ]
  },
  {
   "cell_type": "code",
   "execution_count": 26,
   "id": "edeae784",
   "metadata": {},
   "outputs": [
    {
     "data": {
      "text/plain": [
       "100"
      ]
     },
     "execution_count": 26,
     "metadata": {},
     "output_type": "execute_result"
    }
   ],
   "source": [
    "budget_series.max()"
   ]
  },
  {
   "cell_type": "code",
   "execution_count": 27,
   "id": "c61c7a2c",
   "metadata": {},
   "outputs": [
    {
     "data": {
      "text/plain": [
       "10"
      ]
     },
     "execution_count": 27,
     "metadata": {},
     "output_type": "execute_result"
    }
   ],
   "source": [
    "budget_series.min()"
   ]
  }
 ],
 "metadata": {
  "kernelspec": {
   "display_name": "Python 3",
   "language": "python",
   "name": "python3"
  },
  "language_info": {
   "codemirror_mode": {
    "name": "ipython",
    "version": 3
   },
   "file_extension": ".py",
   "mimetype": "text/x-python",
   "name": "python",
   "nbconvert_exporter": "python",
   "pygments_lexer": "ipython3",
   "version": "3.8.8"
  }
 },
 "nbformat": 4,
 "nbformat_minor": 5
}
