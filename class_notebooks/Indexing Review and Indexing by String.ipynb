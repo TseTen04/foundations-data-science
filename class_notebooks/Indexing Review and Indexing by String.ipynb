{
 "cells": [
  {
   "cell_type": "code",
   "execution_count": 1,
   "id": "43a28591",
   "metadata": {},
   "outputs": [],
   "source": [
    "import pandas"
   ]
  },
  {
   "cell_type": "code",
   "execution_count": 4,
   "id": "eff4e0b4",
   "metadata": {},
   "outputs": [],
   "source": [
    "df = pandas.read_csv('http://bit.ly/airbnbcsv')"
   ]
  },
  {
   "cell_type": "markdown",
   "id": "7fb989dd",
   "metadata": {},
   "source": [
    "Create a data frame that is only the rooms with minimum nights > 7\n",
    "\n",
    "First, create a series of booleans that we can use to pull the right rows later\n"
   ]
  },
  {
   "cell_type": "code",
   "execution_count": 10,
   "id": "ca95cb83",
   "metadata": {},
   "outputs": [
    {
     "data": {
      "text/plain": [
       "0        False\n",
       "1        False\n",
       "2        False\n",
       "3        False\n",
       "4         True\n",
       "         ...  \n",
       "48890    False\n",
       "48891    False\n",
       "48892     True\n",
       "48893    False\n",
       "48894    False\n",
       "Name: minimum_nights, Length: 48895, dtype: bool"
      ]
     },
     "execution_count": 10,
     "metadata": {},
     "output_type": "execute_result"
    }
   ],
   "source": [
    "minimum_nights_bools = df.minimum_nights > 7\n",
    "\n",
    "minimum_nights_bools"
   ]
  },
  {
   "cell_type": "markdown",
   "id": "1ee50e34",
   "metadata": {},
   "source": [
    "Use the boolean list to create a new data set that isa subset of the original"
   ]
  },
  {
   "cell_type": "code",
   "execution_count": 13,
   "id": "31941788",
   "metadata": {},
   "outputs": [],
   "source": [
    "minimum_nights_df = df[minimum_nights_bools]"
   ]
  },
  {
   "cell_type": "markdown",
   "id": "a0905e2e",
   "metadata": {},
   "source": [
    "How many rows is the new data frame?"
   ]
  },
  {
   "cell_type": "code",
   "execution_count": 56,
   "id": "47d014c6",
   "metadata": {},
   "outputs": [
    {
     "data": {
      "text/plain": [
       "7333"
      ]
     },
     "execution_count": 56,
     "metadata": {},
     "output_type": "execute_result"
    }
   ],
   "source": [
    "len(minimum_nights_df)"
   ]
  },
  {
   "cell_type": "markdown",
   "id": "e6da707a",
   "metadata": {},
   "source": [
    "OK, now let's narrow it down to only Brooklyn. We'll use the neighborhood_group column for that."
   ]
  },
  {
   "cell_type": "code",
   "execution_count": 61,
   "id": "1006a44e",
   "metadata": {},
   "outputs": [
    {
     "data": {
      "text/html": [
       "<div>\n",
       "<style scoped>\n",
       "    .dataframe tbody tr th:only-of-type {\n",
       "        vertical-align: middle;\n",
       "    }\n",
       "\n",
       "    .dataframe tbody tr th {\n",
       "        vertical-align: top;\n",
       "    }\n",
       "\n",
       "    .dataframe thead th {\n",
       "        text-align: right;\n",
       "    }\n",
       "</style>\n",
       "<table border=\"1\" class=\"dataframe\">\n",
       "  <thead>\n",
       "    <tr style=\"text-align: right;\">\n",
       "      <th></th>\n",
       "      <th>id</th>\n",
       "      <th>name</th>\n",
       "      <th>host_id</th>\n",
       "      <th>host_name</th>\n",
       "      <th>neighbourhood_group</th>\n",
       "      <th>neighbourhood</th>\n",
       "      <th>latitude</th>\n",
       "      <th>longitude</th>\n",
       "      <th>room_type</th>\n",
       "      <th>price</th>\n",
       "      <th>minimum_nights</th>\n",
       "      <th>number_of_reviews</th>\n",
       "      <th>last_review</th>\n",
       "      <th>reviews_per_month</th>\n",
       "      <th>calculated_host_listings_count</th>\n",
       "      <th>availability_365</th>\n",
       "    </tr>\n",
       "  </thead>\n",
       "  <tbody>\n",
       "    <tr>\n",
       "      <th>6</th>\n",
       "      <td>5121</td>\n",
       "      <td>BlissArtsSpace!</td>\n",
       "      <td>7356</td>\n",
       "      <td>Garon</td>\n",
       "      <td>Brooklyn</td>\n",
       "      <td>Bedford-Stuyvesant</td>\n",
       "      <td>40.68688</td>\n",
       "      <td>-73.95596</td>\n",
       "      <td>Private room</td>\n",
       "      <td>60</td>\n",
       "      <td>45</td>\n",
       "      <td>49</td>\n",
       "      <td>2017-10-05</td>\n",
       "      <td>0.40</td>\n",
       "      <td>1</td>\n",
       "      <td>0</td>\n",
       "    </tr>\n",
       "    <tr>\n",
       "      <th>36</th>\n",
       "      <td>11452</td>\n",
       "      <td>Clean and Quiet in Brooklyn</td>\n",
       "      <td>7355</td>\n",
       "      <td>Vt</td>\n",
       "      <td>Brooklyn</td>\n",
       "      <td>Bedford-Stuyvesant</td>\n",
       "      <td>40.68876</td>\n",
       "      <td>-73.94312</td>\n",
       "      <td>Private room</td>\n",
       "      <td>35</td>\n",
       "      <td>60</td>\n",
       "      <td>0</td>\n",
       "      <td>NaN</td>\n",
       "      <td>NaN</td>\n",
       "      <td>1</td>\n",
       "      <td>365</td>\n",
       "    </tr>\n",
       "    <tr>\n",
       "      <th>45</th>\n",
       "      <td>12627</td>\n",
       "      <td>Entire apartment in central Brooklyn neighborh...</td>\n",
       "      <td>49670</td>\n",
       "      <td>Rana</td>\n",
       "      <td>Brooklyn</td>\n",
       "      <td>Prospect-Lefferts Gardens</td>\n",
       "      <td>40.65944</td>\n",
       "      <td>-73.96238</td>\n",
       "      <td>Entire home/apt</td>\n",
       "      <td>150</td>\n",
       "      <td>29</td>\n",
       "      <td>11</td>\n",
       "      <td>2019-06-05</td>\n",
       "      <td>0.49</td>\n",
       "      <td>1</td>\n",
       "      <td>95</td>\n",
       "    </tr>\n",
       "    <tr>\n",
       "      <th>55</th>\n",
       "      <td>14377</td>\n",
       "      <td>Williamsburg 1 bedroom Apartment</td>\n",
       "      <td>56512</td>\n",
       "      <td>Joanna</td>\n",
       "      <td>Brooklyn</td>\n",
       "      <td>Williamsburg</td>\n",
       "      <td>40.70881</td>\n",
       "      <td>-73.95930</td>\n",
       "      <td>Entire home/apt</td>\n",
       "      <td>150</td>\n",
       "      <td>30</td>\n",
       "      <td>105</td>\n",
       "      <td>2019-06-22</td>\n",
       "      <td>0.90</td>\n",
       "      <td>1</td>\n",
       "      <td>30</td>\n",
       "    </tr>\n",
       "    <tr>\n",
       "      <th>63</th>\n",
       "      <td>16326</td>\n",
       "      <td>Comfortable 4-bedroom apt in family house.</td>\n",
       "      <td>63588</td>\n",
       "      <td>Dimitri</td>\n",
       "      <td>Brooklyn</td>\n",
       "      <td>Prospect Heights</td>\n",
       "      <td>40.67811</td>\n",
       "      <td>-73.96428</td>\n",
       "      <td>Entire home/apt</td>\n",
       "      <td>200</td>\n",
       "      <td>30</td>\n",
       "      <td>143</td>\n",
       "      <td>2019-01-26</td>\n",
       "      <td>1.33</td>\n",
       "      <td>2</td>\n",
       "      <td>297</td>\n",
       "    </tr>\n",
       "    <tr>\n",
       "      <th>...</th>\n",
       "      <td>...</td>\n",
       "      <td>...</td>\n",
       "      <td>...</td>\n",
       "      <td>...</td>\n",
       "      <td>...</td>\n",
       "      <td>...</td>\n",
       "      <td>...</td>\n",
       "      <td>...</td>\n",
       "      <td>...</td>\n",
       "      <td>...</td>\n",
       "      <td>...</td>\n",
       "      <td>...</td>\n",
       "      <td>...</td>\n",
       "      <td>...</td>\n",
       "      <td>...</td>\n",
       "      <td>...</td>\n",
       "    </tr>\n",
       "    <tr>\n",
       "      <th>48772</th>\n",
       "      <td>36424129</td>\n",
       "      <td>Bright &amp; Cheerful! Modern w/ Laundry + Fast WiFi</td>\n",
       "      <td>107407045</td>\n",
       "      <td>Brett &amp; Megan</td>\n",
       "      <td>Brooklyn</td>\n",
       "      <td>Bedford-Stuyvesant</td>\n",
       "      <td>40.69217</td>\n",
       "      <td>-73.93191</td>\n",
       "      <td>Private room</td>\n",
       "      <td>35</td>\n",
       "      <td>30</td>\n",
       "      <td>0</td>\n",
       "      <td>NaN</td>\n",
       "      <td>NaN</td>\n",
       "      <td>1</td>\n",
       "      <td>44</td>\n",
       "    </tr>\n",
       "    <tr>\n",
       "      <th>48794</th>\n",
       "      <td>36428255</td>\n",
       "      <td>Skyscraper Ultimate Luxury at the Heart of BKLYN.</td>\n",
       "      <td>148289089</td>\n",
       "      <td>Elmar</td>\n",
       "      <td>Brooklyn</td>\n",
       "      <td>Boerum Hill</td>\n",
       "      <td>40.68780</td>\n",
       "      <td>-73.98145</td>\n",
       "      <td>Entire home/apt</td>\n",
       "      <td>235</td>\n",
       "      <td>10</td>\n",
       "      <td>0</td>\n",
       "      <td>NaN</td>\n",
       "      <td>NaN</td>\n",
       "      <td>1</td>\n",
       "      <td>64</td>\n",
       "    </tr>\n",
       "    <tr>\n",
       "      <th>48843</th>\n",
       "      <td>36453642</td>\n",
       "      <td>☆  HUGE, SUNLIT Room - 3 min walk from Train !</td>\n",
       "      <td>53966115</td>\n",
       "      <td>Nora</td>\n",
       "      <td>Brooklyn</td>\n",
       "      <td>Bedford-Stuyvesant</td>\n",
       "      <td>40.69635</td>\n",
       "      <td>-73.93743</td>\n",
       "      <td>Private room</td>\n",
       "      <td>45</td>\n",
       "      <td>29</td>\n",
       "      <td>0</td>\n",
       "      <td>NaN</td>\n",
       "      <td>NaN</td>\n",
       "      <td>2</td>\n",
       "      <td>341</td>\n",
       "    </tr>\n",
       "    <tr>\n",
       "      <th>48879</th>\n",
       "      <td>36480292</td>\n",
       "      <td>Gorgeous 1.5 Bdr with a private yard- Williams...</td>\n",
       "      <td>540335</td>\n",
       "      <td>Lee</td>\n",
       "      <td>Brooklyn</td>\n",
       "      <td>Williamsburg</td>\n",
       "      <td>40.71728</td>\n",
       "      <td>-73.94394</td>\n",
       "      <td>Entire home/apt</td>\n",
       "      <td>120</td>\n",
       "      <td>20</td>\n",
       "      <td>0</td>\n",
       "      <td>NaN</td>\n",
       "      <td>NaN</td>\n",
       "      <td>1</td>\n",
       "      <td>22</td>\n",
       "    </tr>\n",
       "    <tr>\n",
       "      <th>48882</th>\n",
       "      <td>36482231</td>\n",
       "      <td>Bushwick _ Myrtle-Wyckoff</td>\n",
       "      <td>66058896</td>\n",
       "      <td>Luisa</td>\n",
       "      <td>Brooklyn</td>\n",
       "      <td>Bushwick</td>\n",
       "      <td>40.69652</td>\n",
       "      <td>-73.91079</td>\n",
       "      <td>Private room</td>\n",
       "      <td>40</td>\n",
       "      <td>20</td>\n",
       "      <td>0</td>\n",
       "      <td>NaN</td>\n",
       "      <td>NaN</td>\n",
       "      <td>1</td>\n",
       "      <td>31</td>\n",
       "    </tr>\n",
       "  </tbody>\n",
       "</table>\n",
       "<p>2474 rows × 16 columns</p>\n",
       "</div>"
      ],
      "text/plain": [
       "             id                                               name    host_id  \\\n",
       "6          5121                                    BlissArtsSpace!       7356   \n",
       "36        11452                        Clean and Quiet in Brooklyn       7355   \n",
       "45        12627  Entire apartment in central Brooklyn neighborh...      49670   \n",
       "55        14377                   Williamsburg 1 bedroom Apartment      56512   \n",
       "63        16326         Comfortable 4-bedroom apt in family house.      63588   \n",
       "...         ...                                                ...        ...   \n",
       "48772  36424129   Bright & Cheerful! Modern w/ Laundry + Fast WiFi  107407045   \n",
       "48794  36428255  Skyscraper Ultimate Luxury at the Heart of BKLYN.  148289089   \n",
       "48843  36453642     ☆  HUGE, SUNLIT Room - 3 min walk from Train !   53966115   \n",
       "48879  36480292  Gorgeous 1.5 Bdr with a private yard- Williams...     540335   \n",
       "48882  36482231                          Bushwick _ Myrtle-Wyckoff   66058896   \n",
       "\n",
       "           host_name neighbourhood_group              neighbourhood  latitude  \\\n",
       "6              Garon            Brooklyn         Bedford-Stuyvesant  40.68688   \n",
       "36                Vt            Brooklyn         Bedford-Stuyvesant  40.68876   \n",
       "45              Rana            Brooklyn  Prospect-Lefferts Gardens  40.65944   \n",
       "55            Joanna            Brooklyn               Williamsburg  40.70881   \n",
       "63           Dimitri            Brooklyn           Prospect Heights  40.67811   \n",
       "...              ...                 ...                        ...       ...   \n",
       "48772  Brett & Megan            Brooklyn         Bedford-Stuyvesant  40.69217   \n",
       "48794          Elmar            Brooklyn                Boerum Hill  40.68780   \n",
       "48843           Nora            Brooklyn         Bedford-Stuyvesant  40.69635   \n",
       "48879            Lee            Brooklyn               Williamsburg  40.71728   \n",
       "48882          Luisa            Brooklyn                   Bushwick  40.69652   \n",
       "\n",
       "       longitude        room_type  price  minimum_nights  number_of_reviews  \\\n",
       "6      -73.95596     Private room     60              45                 49   \n",
       "36     -73.94312     Private room     35              60                  0   \n",
       "45     -73.96238  Entire home/apt    150              29                 11   \n",
       "55     -73.95930  Entire home/apt    150              30                105   \n",
       "63     -73.96428  Entire home/apt    200              30                143   \n",
       "...          ...              ...    ...             ...                ...   \n",
       "48772  -73.93191     Private room     35              30                  0   \n",
       "48794  -73.98145  Entire home/apt    235              10                  0   \n",
       "48843  -73.93743     Private room     45              29                  0   \n",
       "48879  -73.94394  Entire home/apt    120              20                  0   \n",
       "48882  -73.91079     Private room     40              20                  0   \n",
       "\n",
       "      last_review  reviews_per_month  calculated_host_listings_count  \\\n",
       "6      2017-10-05               0.40                               1   \n",
       "36            NaN                NaN                               1   \n",
       "45     2019-06-05               0.49                               1   \n",
       "55     2019-06-22               0.90                               1   \n",
       "63     2019-01-26               1.33                               2   \n",
       "...           ...                ...                             ...   \n",
       "48772         NaN                NaN                               1   \n",
       "48794         NaN                NaN                               1   \n",
       "48843         NaN                NaN                               2   \n",
       "48879         NaN                NaN                               1   \n",
       "48882         NaN                NaN                               1   \n",
       "\n",
       "       availability_365  \n",
       "6                     0  \n",
       "36                  365  \n",
       "45                   95  \n",
       "55                   30  \n",
       "63                  297  \n",
       "...                 ...  \n",
       "48772                44  \n",
       "48794                64  \n",
       "48843               341  \n",
       "48879                22  \n",
       "48882                31  \n",
       "\n",
       "[2474 rows x 16 columns]"
      ]
     },
     "execution_count": 61,
     "metadata": {},
     "output_type": "execute_result"
    }
   ],
   "source": [
    "brooklyn_bools = minimum_nights_df.neighbourhood_group == \"Brooklyn\"\n",
    "\n",
    "brooklyn_df = minimum_nights_df[brooklyn_bools]\n",
    "\n",
    "brooklyn_df"
   ]
  },
  {
   "cell_type": "markdown",
   "id": "a8aefc8f",
   "metadata": {},
   "source": [
    "So how many listings have a minimum nights of more than 7 and are also in Brooklyn?"
   ]
  },
  {
   "cell_type": "code",
   "execution_count": 63,
   "id": "61c6c7bf",
   "metadata": {},
   "outputs": [
    {
     "data": {
      "text/plain": [
       "2474"
      ]
     },
     "execution_count": 63,
     "metadata": {},
     "output_type": "execute_result"
    }
   ],
   "source": [
    "len(brooklyn_df)"
   ]
  },
  {
   "cell_type": "markdown",
   "id": "903d74e0",
   "metadata": {},
   "source": [
    "The basic procedure here is to first create the data frame of minimum nights. Then we treat that minimum nights data frame as our main data frame, and repeat the steps again with indexing for the borough. The trick is to not start reverting back to using the original df for the second indexing, or to skip steps along the way, which is hard because  when you have a bunch of variables defined and are taking a lot of steps, you can forget where you are in the process."
   ]
  },
  {
   "cell_type": "markdown",
   "id": "8e4124b4",
   "metadata": {},
   "source": [
    "# Indexing by string matching\n",
    "\n",
    "Instead of using the coditiional statement to create the boolean list, we can use special methods that work with strings to create a boolean list of those items that match a string.\n",
    "\n",
    "First, we get a column as a series. Then we use the .str method to show that we're going to work with a string. Then we can use the .contains() method to check for the presence of a specific string.\n",
    "\n",
    "Let's look for listing that contain the word \"spacious.\" I got the idea from this article I found on Google:\n",
    "\n",
    "https://bnbfacts.com/the-most-overused-adjectives-in-airbnb-listing-names/\n"
   ]
  },
  {
   "cell_type": "code",
   "execution_count": 18,
   "id": "037b2a45",
   "metadata": {},
   "outputs": [
    {
     "data": {
      "text/plain": [
       "0        False\n",
       "1        False\n",
       "2        False\n",
       "3        False\n",
       "4        False\n",
       "         ...  \n",
       "48890    False\n",
       "48891    False\n",
       "48892    False\n",
       "48893    False\n",
       "48894    False\n",
       "Name: name, Length: 48895, dtype: object"
      ]
     },
     "execution_count": 18,
     "metadata": {},
     "output_type": "execute_result"
    }
   ],
   "source": [
    "spacious_bools = df.name.str.contains('spacious')\n",
    "\n",
    "spacious_bools"
   ]
  },
  {
   "cell_type": "markdown",
   "id": "d577a784",
   "metadata": {},
   "source": [
    "Now we use the boolean list to create a new data frame and save it to a variable."
   ]
  },
  {
   "cell_type": "markdown",
   "id": "d1502183",
   "metadata": {},
   "source": [
    "There's a problem with our usual method, though. There are some values in the df.name column that are not strings, they contain nothing. So we have to clean up our boolean list before we can use it.\n",
    "\n",
    "You can see this is the case with the below method, which shows what values are in the series. The \"nan\" is causing the problem."
   ]
  },
  {
   "cell_type": "code",
   "execution_count": 23,
   "id": "75a09956",
   "metadata": {},
   "outputs": [
    {
     "data": {
      "text/plain": [
       "array([False, True, nan], dtype=object)"
      ]
     },
     "execution_count": 23,
     "metadata": {},
     "output_type": "execute_result"
    }
   ],
   "source": [
    "spacious_bools.unique()"
   ]
  },
  {
   "cell_type": "markdown",
   "id": "8eed2dcd",
   "metadata": {},
   "source": [
    "The below is a trick to change the nan values to False values. It basically means \"make False anything in this list that is not equal to True.\""
   ]
  },
  {
   "cell_type": "code",
   "execution_count": 22,
   "id": "61e0c4a7",
   "metadata": {},
   "outputs": [],
   "source": [
    "spacious_bools_cleaned = spacious_bools == True"
   ]
  },
  {
   "cell_type": "markdown",
   "id": "5a15321c",
   "metadata": {},
   "source": [
    "Let's just check that our boolean list doesn't have any nan values now."
   ]
  },
  {
   "cell_type": "code",
   "execution_count": 24,
   "id": "6ab0559c",
   "metadata": {},
   "outputs": [
    {
     "data": {
      "text/plain": [
       "array([False,  True])"
      ]
     },
     "execution_count": 24,
     "metadata": {},
     "output_type": "execute_result"
    }
   ],
   "source": [
    "spacious_bools_cleaned.unique()"
   ]
  },
  {
   "cell_type": "markdown",
   "id": "52eb8b72",
   "metadata": {},
   "source": [
    "With that annoying step out of the way, let's do what we wanted, which is to create a new data set of just the listings that contain the word \"spatious.\""
   ]
  },
  {
   "cell_type": "code",
   "execution_count": 29,
   "id": "482dc312",
   "metadata": {},
   "outputs": [
    {
     "data": {
      "text/html": [
       "<div>\n",
       "<style scoped>\n",
       "    .dataframe tbody tr th:only-of-type {\n",
       "        vertical-align: middle;\n",
       "    }\n",
       "\n",
       "    .dataframe tbody tr th {\n",
       "        vertical-align: top;\n",
       "    }\n",
       "\n",
       "    .dataframe thead th {\n",
       "        text-align: right;\n",
       "    }\n",
       "</style>\n",
       "<table border=\"1\" class=\"dataframe\">\n",
       "  <thead>\n",
       "    <tr style=\"text-align: right;\">\n",
       "      <th></th>\n",
       "      <th>id</th>\n",
       "      <th>name</th>\n",
       "      <th>host_id</th>\n",
       "      <th>host_name</th>\n",
       "      <th>neighbourhood_group</th>\n",
       "      <th>neighbourhood</th>\n",
       "      <th>latitude</th>\n",
       "      <th>longitude</th>\n",
       "      <th>room_type</th>\n",
       "      <th>price</th>\n",
       "      <th>minimum_nights</th>\n",
       "      <th>number_of_reviews</th>\n",
       "      <th>last_review</th>\n",
       "      <th>reviews_per_month</th>\n",
       "      <th>calculated_host_listings_count</th>\n",
       "      <th>availability_365</th>\n",
       "    </tr>\n",
       "  </thead>\n",
       "  <tbody>\n",
       "    <tr>\n",
       "      <th>239</th>\n",
       "      <td>60794</td>\n",
       "      <td>Bright and spacious, garden below!</td>\n",
       "      <td>293394</td>\n",
       "      <td>Rachel</td>\n",
       "      <td>Manhattan</td>\n",
       "      <td>Upper West Side</td>\n",
       "      <td>40.80021</td>\n",
       "      <td>-73.96071</td>\n",
       "      <td>Entire home/apt</td>\n",
       "      <td>195</td>\n",
       "      <td>4</td>\n",
       "      <td>4</td>\n",
       "      <td>2017-08-25</td>\n",
       "      <td>0.04</td>\n",
       "      <td>1</td>\n",
       "      <td>0</td>\n",
       "    </tr>\n",
       "    <tr>\n",
       "      <th>299</th>\n",
       "      <td>68974</td>\n",
       "      <td>Unique spacious loft on the Bowery</td>\n",
       "      <td>281229</td>\n",
       "      <td>Alicia</td>\n",
       "      <td>Manhattan</td>\n",
       "      <td>Little Italy</td>\n",
       "      <td>40.71943</td>\n",
       "      <td>-73.99627</td>\n",
       "      <td>Entire home/apt</td>\n",
       "      <td>575</td>\n",
       "      <td>2</td>\n",
       "      <td>191</td>\n",
       "      <td>2019-06-20</td>\n",
       "      <td>1.88</td>\n",
       "      <td>1</td>\n",
       "      <td>298</td>\n",
       "    </tr>\n",
       "    <tr>\n",
       "      <th>408</th>\n",
       "      <td>135393</td>\n",
       "      <td>Private, spacious room in Brooklyn</td>\n",
       "      <td>663764</td>\n",
       "      <td>Karen</td>\n",
       "      <td>Brooklyn</td>\n",
       "      <td>East Flatbush</td>\n",
       "      <td>40.65100</td>\n",
       "      <td>-73.94886</td>\n",
       "      <td>Private room</td>\n",
       "      <td>50</td>\n",
       "      <td>2</td>\n",
       "      <td>263</td>\n",
       "      <td>2019-06-24</td>\n",
       "      <td>2.69</td>\n",
       "      <td>2</td>\n",
       "      <td>136</td>\n",
       "    </tr>\n",
       "    <tr>\n",
       "      <th>493</th>\n",
       "      <td>173151</td>\n",
       "      <td>spacious studio</td>\n",
       "      <td>826459</td>\n",
       "      <td>Jane</td>\n",
       "      <td>Brooklyn</td>\n",
       "      <td>Greenpoint</td>\n",
       "      <td>40.72901</td>\n",
       "      <td>-73.95812</td>\n",
       "      <td>Private room</td>\n",
       "      <td>91</td>\n",
       "      <td>3</td>\n",
       "      <td>241</td>\n",
       "      <td>2019-06-24</td>\n",
       "      <td>2.49</td>\n",
       "      <td>1</td>\n",
       "      <td>287</td>\n",
       "    </tr>\n",
       "    <tr>\n",
       "      <th>548</th>\n",
       "      <td>202273</td>\n",
       "      <td>Cozy and spacious - rare for NYC!</td>\n",
       "      <td>918087</td>\n",
       "      <td>Kestrel</td>\n",
       "      <td>Brooklyn</td>\n",
       "      <td>Bedford-Stuyvesant</td>\n",
       "      <td>40.68812</td>\n",
       "      <td>-73.94934</td>\n",
       "      <td>Private room</td>\n",
       "      <td>67</td>\n",
       "      <td>4</td>\n",
       "      <td>72</td>\n",
       "      <td>2016-12-26</td>\n",
       "      <td>0.76</td>\n",
       "      <td>3</td>\n",
       "      <td>0</td>\n",
       "    </tr>\n",
       "    <tr>\n",
       "      <th>...</th>\n",
       "      <td>...</td>\n",
       "      <td>...</td>\n",
       "      <td>...</td>\n",
       "      <td>...</td>\n",
       "      <td>...</td>\n",
       "      <td>...</td>\n",
       "      <td>...</td>\n",
       "      <td>...</td>\n",
       "      <td>...</td>\n",
       "      <td>...</td>\n",
       "      <td>...</td>\n",
       "      <td>...</td>\n",
       "      <td>...</td>\n",
       "      <td>...</td>\n",
       "      <td>...</td>\n",
       "      <td>...</td>\n",
       "    </tr>\n",
       "    <tr>\n",
       "      <th>48417</th>\n",
       "      <td>36243240</td>\n",
       "      <td>spacious private room #3</td>\n",
       "      <td>35783912</td>\n",
       "      <td>Pi &amp; Leo</td>\n",
       "      <td>Bronx</td>\n",
       "      <td>Fordham</td>\n",
       "      <td>40.86263</td>\n",
       "      <td>-73.89088</td>\n",
       "      <td>Private room</td>\n",
       "      <td>33</td>\n",
       "      <td>2</td>\n",
       "      <td>0</td>\n",
       "      <td>NaN</td>\n",
       "      <td>NaN</td>\n",
       "      <td>8</td>\n",
       "      <td>84</td>\n",
       "    </tr>\n",
       "    <tr>\n",
       "      <th>48485</th>\n",
       "      <td>36280357</td>\n",
       "      <td>Bright and sunny top floor, spacious apartment</td>\n",
       "      <td>49037454</td>\n",
       "      <td>Nicole</td>\n",
       "      <td>Manhattan</td>\n",
       "      <td>Chelsea</td>\n",
       "      <td>40.74218</td>\n",
       "      <td>-73.99813</td>\n",
       "      <td>Entire home/apt</td>\n",
       "      <td>150</td>\n",
       "      <td>5</td>\n",
       "      <td>0</td>\n",
       "      <td>NaN</td>\n",
       "      <td>NaN</td>\n",
       "      <td>1</td>\n",
       "      <td>4</td>\n",
       "    </tr>\n",
       "    <tr>\n",
       "      <th>48491</th>\n",
       "      <td>36281984</td>\n",
       "      <td>No-frills master bedroom in spacious Bushwick ...</td>\n",
       "      <td>45909314</td>\n",
       "      <td>Andrew</td>\n",
       "      <td>Brooklyn</td>\n",
       "      <td>Bushwick</td>\n",
       "      <td>40.69807</td>\n",
       "      <td>-73.93466</td>\n",
       "      <td>Private room</td>\n",
       "      <td>55</td>\n",
       "      <td>1</td>\n",
       "      <td>0</td>\n",
       "      <td>NaN</td>\n",
       "      <td>NaN</td>\n",
       "      <td>1</td>\n",
       "      <td>14</td>\n",
       "    </tr>\n",
       "    <tr>\n",
       "      <th>48518</th>\n",
       "      <td>36307792</td>\n",
       "      <td>Private room in spacious East Village oasis</td>\n",
       "      <td>41698272</td>\n",
       "      <td>Rachel</td>\n",
       "      <td>Manhattan</td>\n",
       "      <td>East Village</td>\n",
       "      <td>40.72797</td>\n",
       "      <td>-73.98155</td>\n",
       "      <td>Private room</td>\n",
       "      <td>72</td>\n",
       "      <td>3</td>\n",
       "      <td>0</td>\n",
       "      <td>NaN</td>\n",
       "      <td>NaN</td>\n",
       "      <td>1</td>\n",
       "      <td>170</td>\n",
       "    </tr>\n",
       "    <tr>\n",
       "      <th>48741</th>\n",
       "      <td>36413779</td>\n",
       "      <td>Sunny &amp; spacious room in a 3 Br - Williamsburg</td>\n",
       "      <td>2449230</td>\n",
       "      <td>Itamar</td>\n",
       "      <td>Brooklyn</td>\n",
       "      <td>Williamsburg</td>\n",
       "      <td>40.71812</td>\n",
       "      <td>-73.95495</td>\n",
       "      <td>Private room</td>\n",
       "      <td>80</td>\n",
       "      <td>5</td>\n",
       "      <td>0</td>\n",
       "      <td>NaN</td>\n",
       "      <td>NaN</td>\n",
       "      <td>1</td>\n",
       "      <td>38</td>\n",
       "    </tr>\n",
       "  </tbody>\n",
       "</table>\n",
       "<p>582 rows × 16 columns</p>\n",
       "</div>"
      ],
      "text/plain": [
       "             id                                               name   host_id  \\\n",
       "239       60794                 Bright and spacious, garden below!    293394   \n",
       "299       68974                 Unique spacious loft on the Bowery    281229   \n",
       "408      135393                 Private, spacious room in Brooklyn    663764   \n",
       "493      173151                                    spacious studio    826459   \n",
       "548      202273                  Cozy and spacious - rare for NYC!    918087   \n",
       "...         ...                                                ...       ...   \n",
       "48417  36243240                           spacious private room #3  35783912   \n",
       "48485  36280357     Bright and sunny top floor, spacious apartment  49037454   \n",
       "48491  36281984  No-frills master bedroom in spacious Bushwick ...  45909314   \n",
       "48518  36307792        Private room in spacious East Village oasis  41698272   \n",
       "48741  36413779     Sunny & spacious room in a 3 Br - Williamsburg   2449230   \n",
       "\n",
       "      host_name neighbourhood_group       neighbourhood  latitude  longitude  \\\n",
       "239      Rachel           Manhattan     Upper West Side  40.80021  -73.96071   \n",
       "299      Alicia           Manhattan        Little Italy  40.71943  -73.99627   \n",
       "408       Karen            Brooklyn       East Flatbush  40.65100  -73.94886   \n",
       "493        Jane            Brooklyn          Greenpoint  40.72901  -73.95812   \n",
       "548     Kestrel            Brooklyn  Bedford-Stuyvesant  40.68812  -73.94934   \n",
       "...         ...                 ...                 ...       ...        ...   \n",
       "48417  Pi & Leo               Bronx             Fordham  40.86263  -73.89088   \n",
       "48485    Nicole           Manhattan             Chelsea  40.74218  -73.99813   \n",
       "48491    Andrew            Brooklyn            Bushwick  40.69807  -73.93466   \n",
       "48518    Rachel           Manhattan        East Village  40.72797  -73.98155   \n",
       "48741    Itamar            Brooklyn        Williamsburg  40.71812  -73.95495   \n",
       "\n",
       "             room_type  price  minimum_nights  number_of_reviews last_review  \\\n",
       "239    Entire home/apt    195               4                  4  2017-08-25   \n",
       "299    Entire home/apt    575               2                191  2019-06-20   \n",
       "408       Private room     50               2                263  2019-06-24   \n",
       "493       Private room     91               3                241  2019-06-24   \n",
       "548       Private room     67               4                 72  2016-12-26   \n",
       "...                ...    ...             ...                ...         ...   \n",
       "48417     Private room     33               2                  0         NaN   \n",
       "48485  Entire home/apt    150               5                  0         NaN   \n",
       "48491     Private room     55               1                  0         NaN   \n",
       "48518     Private room     72               3                  0         NaN   \n",
       "48741     Private room     80               5                  0         NaN   \n",
       "\n",
       "       reviews_per_month  calculated_host_listings_count  availability_365  \n",
       "239                 0.04                               1                 0  \n",
       "299                 1.88                               1               298  \n",
       "408                 2.69                               2               136  \n",
       "493                 2.49                               1               287  \n",
       "548                 0.76                               3                 0  \n",
       "...                  ...                             ...               ...  \n",
       "48417                NaN                               8                84  \n",
       "48485                NaN                               1                 4  \n",
       "48491                NaN                               1                14  \n",
       "48518                NaN                               1               170  \n",
       "48741                NaN                               1                38  \n",
       "\n",
       "[582 rows x 16 columns]"
      ]
     },
     "execution_count": 29,
     "metadata": {},
     "output_type": "execute_result"
    }
   ],
   "source": [
    "spatious_df = df[spacious_bools_cleaned]\n",
    "\n",
    "spatious_df"
   ]
  },
  {
   "cell_type": "markdown",
   "id": "8731bb5f",
   "metadata": {},
   "source": [
    "How many listing have the word \"spatious\"?"
   ]
  },
  {
   "cell_type": "code",
   "execution_count": 33,
   "id": "c4232d28",
   "metadata": {},
   "outputs": [
    {
     "data": {
      "text/plain": [
       "582"
      ]
     },
     "execution_count": 33,
     "metadata": {},
     "output_type": "execute_result"
    }
   ],
   "source": [
    "len(spatious_df)"
   ]
  },
  {
   "cell_type": "markdown",
   "id": "0227141b",
   "metadata": {},
   "source": [
    "Get a random sample of the names of the listings. We can pull the \"name\" column and they will all have the word spatious in it, since our new data frame was created as a subset of the data where the name column contains the word spatious."
   ]
  },
  {
   "cell_type": "code",
   "execution_count": 34,
   "id": "437e2c2e",
   "metadata": {},
   "outputs": [
    {
     "data": {
      "text/plain": [
       "44122       Clean and spacious room in charming Greenpoint\n",
       "42875    Bright, spacious Brooklyn Loft with large terrace\n",
       "48349            PVT spacious room in queens near airports\n",
       "16398      Sunny and spacious 1 bedroom Brooklyn apartment\n",
       "13084                           cute spacious bk apartment\n",
       "42040    Your bright, spacious & central WILLIAMSBURG h...\n",
       "3093     Cool and spacious room-Approx 150 yard from LT...\n",
       "8887                       Bright spacious 1BR on the park\n",
       "5871                      Cozy/spacious 3bd, room for rent\n",
       "27348    Beautiful room in spacious apartment in Manhattan\n",
       "Name: name, dtype: object"
      ]
     },
     "execution_count": 34,
     "metadata": {},
     "output_type": "execute_result"
    }
   ],
   "source": [
    "spatious_df.name.sample(10)"
   ]
  },
  {
   "cell_type": "markdown",
   "id": "acb38aa1",
   "metadata": {},
   "source": [
    "For fun, let's check if spatious rooms are more expensive on average."
   ]
  },
  {
   "cell_type": "code",
   "execution_count": 35,
   "id": "4232bcc2",
   "metadata": {},
   "outputs": [
    {
     "data": {
      "text/plain": [
       "152.7206871868289"
      ]
     },
     "execution_count": 35,
     "metadata": {},
     "output_type": "execute_result"
    }
   ],
   "source": [
    "df.price.mean()"
   ]
  },
  {
   "cell_type": "code",
   "execution_count": 38,
   "id": "b9273a21",
   "metadata": {},
   "outputs": [
    {
     "data": {
      "text/plain": [
       "118.91580756013745"
      ]
     },
     "execution_count": 38,
     "metadata": {},
     "output_type": "execute_result"
    }
   ],
   "source": [
    "spatious_df.price.mean()"
   ]
  },
  {
   "cell_type": "code",
   "execution_count": 39,
   "id": "2fab2e01",
   "metadata": {},
   "outputs": [
    {
     "data": {
      "text/plain": [
       "106.0"
      ]
     },
     "execution_count": 39,
     "metadata": {},
     "output_type": "execute_result"
    }
   ],
   "source": [
    "df.price.median()"
   ]
  },
  {
   "cell_type": "code",
   "execution_count": 42,
   "id": "aba8e01a",
   "metadata": {},
   "outputs": [
    {
     "data": {
      "text/plain": [
       "95.5"
      ]
     },
     "execution_count": 42,
     "metadata": {},
     "output_type": "execute_result"
    }
   ],
   "source": [
    "spatious_df.price.median()"
   ]
  },
  {
   "cell_type": "markdown",
   "id": "a61eb4d4",
   "metadata": {},
   "source": [
    "Spatious rooms are actually cheaper on averge. This might be for the reason outlined in the article I got the idea from. Basically, the really fancy rooms are named something like \"The Coral Reef,\" not \"Spatious Lower East Side Room\" or whatever. That's my guess, anyway."
   ]
  },
  {
   "cell_type": "markdown",
   "id": "344a886f",
   "metadata": {},
   "source": [
    "One last thing, which is that the .contain() method was case sensitive. That means there are a number of spatious rooms that didn't get picked up because they used a capital letter. The way to fix this is to make the name column all lower case first before checking."
   ]
  },
  {
   "cell_type": "code",
   "execution_count": 53,
   "id": "68be8578",
   "metadata": {},
   "outputs": [],
   "source": [
    "all_spatious_bools = df.name.str.lower().str.contains('spacious')\n",
    "\n",
    "all_spatious_bools_cleaned = all_spatious_bools == True\n",
    "\n",
    "all_spatious_df = df[all_spatious_bools_cleaned]"
   ]
  },
  {
   "cell_type": "markdown",
   "id": "ce5e668d",
   "metadata": {},
   "source": [
    "How many did we miss when we didn't make the series lower case first?"
   ]
  },
  {
   "cell_type": "code",
   "execution_count": 55,
   "id": "355763b1",
   "metadata": {},
   "outputs": [
    {
     "data": {
      "text/plain": [
       "3800"
      ]
     },
     "execution_count": 55,
     "metadata": {},
     "output_type": "execute_result"
    }
   ],
   "source": [
    "len(all_spatious_df)"
   ]
  },
  {
   "cell_type": "markdown",
   "id": "39059d75",
   "metadata": {},
   "source": [
    "So we actually missed most of them the first time. That also tells me that \"spacious\" is usually the first word in the listing, since most of the uses of the word have a capital letter in them."
   ]
  }
 ],
 "metadata": {
  "kernelspec": {
   "display_name": "Python 3",
   "language": "python",
   "name": "python3"
  },
  "language_info": {
   "codemirror_mode": {
    "name": "ipython",
    "version": 3
   },
   "file_extension": ".py",
   "mimetype": "text/x-python",
   "name": "python",
   "nbconvert_exporter": "python",
   "pygments_lexer": "ipython3",
   "version": "3.8.8"
  }
 },
 "nbformat": 4,
 "nbformat_minor": 5
}
