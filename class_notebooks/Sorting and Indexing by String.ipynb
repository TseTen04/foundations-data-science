{
 "cells": [
  {
   "cell_type": "markdown",
   "id": "2ad443be",
   "metadata": {},
   "source": [
    "# Sorting by column\n",
    "\n",
    "Sort the data frame by a particular column."
   ]
  },
  {
   "cell_type": "code",
   "execution_count": 2,
   "id": "efbfd2b4",
   "metadata": {},
   "outputs": [],
   "source": [
    "import pandas"
   ]
  },
  {
   "cell_type": "code",
   "execution_count": 3,
   "id": "af5a566a",
   "metadata": {},
   "outputs": [],
   "source": [
    "df = pandas.read_csv('http://bit.ly/airbnbcsv')"
   ]
  },
  {
   "cell_type": "code",
   "execution_count": 4,
   "id": "8f0e2f3d",
   "metadata": {
    "scrolled": true
   },
   "outputs": [
    {
     "data": {
      "text/html": [
       "<div>\n",
       "<style scoped>\n",
       "    .dataframe tbody tr th:only-of-type {\n",
       "        vertical-align: middle;\n",
       "    }\n",
       "\n",
       "    .dataframe tbody tr th {\n",
       "        vertical-align: top;\n",
       "    }\n",
       "\n",
       "    .dataframe thead th {\n",
       "        text-align: right;\n",
       "    }\n",
       "</style>\n",
       "<table border=\"1\" class=\"dataframe\">\n",
       "  <thead>\n",
       "    <tr style=\"text-align: right;\">\n",
       "      <th></th>\n",
       "      <th>id</th>\n",
       "      <th>name</th>\n",
       "      <th>host_id</th>\n",
       "      <th>host_name</th>\n",
       "      <th>neighbourhood_group</th>\n",
       "      <th>neighbourhood</th>\n",
       "      <th>latitude</th>\n",
       "      <th>longitude</th>\n",
       "      <th>room_type</th>\n",
       "      <th>price</th>\n",
       "      <th>minimum_nights</th>\n",
       "      <th>number_of_reviews</th>\n",
       "      <th>last_review</th>\n",
       "      <th>reviews_per_month</th>\n",
       "      <th>calculated_host_listings_count</th>\n",
       "      <th>availability_365</th>\n",
       "    </tr>\n",
       "  </thead>\n",
       "  <tbody>\n",
       "    <tr>\n",
       "      <th>0</th>\n",
       "      <td>2539</td>\n",
       "      <td>Clean &amp; quiet apt home by the park</td>\n",
       "      <td>2787</td>\n",
       "      <td>John</td>\n",
       "      <td>Brooklyn</td>\n",
       "      <td>Kensington</td>\n",
       "      <td>40.64749</td>\n",
       "      <td>-73.97237</td>\n",
       "      <td>Private room</td>\n",
       "      <td>149</td>\n",
       "      <td>1</td>\n",
       "      <td>9</td>\n",
       "      <td>2018-10-19</td>\n",
       "      <td>0.21</td>\n",
       "      <td>6</td>\n",
       "      <td>365</td>\n",
       "    </tr>\n",
       "    <tr>\n",
       "      <th>1</th>\n",
       "      <td>2595</td>\n",
       "      <td>Skylit Midtown Castle</td>\n",
       "      <td>2845</td>\n",
       "      <td>Jennifer</td>\n",
       "      <td>Manhattan</td>\n",
       "      <td>Midtown</td>\n",
       "      <td>40.75362</td>\n",
       "      <td>-73.98377</td>\n",
       "      <td>Entire home/apt</td>\n",
       "      <td>225</td>\n",
       "      <td>1</td>\n",
       "      <td>45</td>\n",
       "      <td>2019-05-21</td>\n",
       "      <td>0.38</td>\n",
       "      <td>2</td>\n",
       "      <td>355</td>\n",
       "    </tr>\n",
       "    <tr>\n",
       "      <th>2</th>\n",
       "      <td>3647</td>\n",
       "      <td>THE VILLAGE OF HARLEM....NEW YORK !</td>\n",
       "      <td>4632</td>\n",
       "      <td>Elisabeth</td>\n",
       "      <td>Manhattan</td>\n",
       "      <td>Harlem</td>\n",
       "      <td>40.80902</td>\n",
       "      <td>-73.94190</td>\n",
       "      <td>Private room</td>\n",
       "      <td>150</td>\n",
       "      <td>3</td>\n",
       "      <td>0</td>\n",
       "      <td>NaN</td>\n",
       "      <td>NaN</td>\n",
       "      <td>1</td>\n",
       "      <td>365</td>\n",
       "    </tr>\n",
       "    <tr>\n",
       "      <th>3</th>\n",
       "      <td>3831</td>\n",
       "      <td>Cozy Entire Floor of Brownstone</td>\n",
       "      <td>4869</td>\n",
       "      <td>LisaRoxanne</td>\n",
       "      <td>Brooklyn</td>\n",
       "      <td>Clinton Hill</td>\n",
       "      <td>40.68514</td>\n",
       "      <td>-73.95976</td>\n",
       "      <td>Entire home/apt</td>\n",
       "      <td>89</td>\n",
       "      <td>1</td>\n",
       "      <td>270</td>\n",
       "      <td>2019-07-05</td>\n",
       "      <td>4.64</td>\n",
       "      <td>1</td>\n",
       "      <td>194</td>\n",
       "    </tr>\n",
       "    <tr>\n",
       "      <th>4</th>\n",
       "      <td>5022</td>\n",
       "      <td>Entire Apt: Spacious Studio/Loft by central park</td>\n",
       "      <td>7192</td>\n",
       "      <td>Laura</td>\n",
       "      <td>Manhattan</td>\n",
       "      <td>East Harlem</td>\n",
       "      <td>40.79851</td>\n",
       "      <td>-73.94399</td>\n",
       "      <td>Entire home/apt</td>\n",
       "      <td>80</td>\n",
       "      <td>10</td>\n",
       "      <td>9</td>\n",
       "      <td>2018-11-19</td>\n",
       "      <td>0.10</td>\n",
       "      <td>1</td>\n",
       "      <td>0</td>\n",
       "    </tr>\n",
       "    <tr>\n",
       "      <th>...</th>\n",
       "      <td>...</td>\n",
       "      <td>...</td>\n",
       "      <td>...</td>\n",
       "      <td>...</td>\n",
       "      <td>...</td>\n",
       "      <td>...</td>\n",
       "      <td>...</td>\n",
       "      <td>...</td>\n",
       "      <td>...</td>\n",
       "      <td>...</td>\n",
       "      <td>...</td>\n",
       "      <td>...</td>\n",
       "      <td>...</td>\n",
       "      <td>...</td>\n",
       "      <td>...</td>\n",
       "      <td>...</td>\n",
       "    </tr>\n",
       "    <tr>\n",
       "      <th>48890</th>\n",
       "      <td>36484665</td>\n",
       "      <td>Charming one bedroom - newly renovated rowhouse</td>\n",
       "      <td>8232441</td>\n",
       "      <td>Sabrina</td>\n",
       "      <td>Brooklyn</td>\n",
       "      <td>Bedford-Stuyvesant</td>\n",
       "      <td>40.67853</td>\n",
       "      <td>-73.94995</td>\n",
       "      <td>Private room</td>\n",
       "      <td>70</td>\n",
       "      <td>2</td>\n",
       "      <td>0</td>\n",
       "      <td>NaN</td>\n",
       "      <td>NaN</td>\n",
       "      <td>2</td>\n",
       "      <td>9</td>\n",
       "    </tr>\n",
       "    <tr>\n",
       "      <th>48891</th>\n",
       "      <td>36485057</td>\n",
       "      <td>Affordable room in Bushwick/East Williamsburg</td>\n",
       "      <td>6570630</td>\n",
       "      <td>Marisol</td>\n",
       "      <td>Brooklyn</td>\n",
       "      <td>Bushwick</td>\n",
       "      <td>40.70184</td>\n",
       "      <td>-73.93317</td>\n",
       "      <td>Private room</td>\n",
       "      <td>40</td>\n",
       "      <td>4</td>\n",
       "      <td>0</td>\n",
       "      <td>NaN</td>\n",
       "      <td>NaN</td>\n",
       "      <td>2</td>\n",
       "      <td>36</td>\n",
       "    </tr>\n",
       "    <tr>\n",
       "      <th>48892</th>\n",
       "      <td>36485431</td>\n",
       "      <td>Sunny Studio at Historical Neighborhood</td>\n",
       "      <td>23492952</td>\n",
       "      <td>Ilgar &amp; Aysel</td>\n",
       "      <td>Manhattan</td>\n",
       "      <td>Harlem</td>\n",
       "      <td>40.81475</td>\n",
       "      <td>-73.94867</td>\n",
       "      <td>Entire home/apt</td>\n",
       "      <td>115</td>\n",
       "      <td>10</td>\n",
       "      <td>0</td>\n",
       "      <td>NaN</td>\n",
       "      <td>NaN</td>\n",
       "      <td>1</td>\n",
       "      <td>27</td>\n",
       "    </tr>\n",
       "    <tr>\n",
       "      <th>48893</th>\n",
       "      <td>36485609</td>\n",
       "      <td>43rd St. Time Square-cozy single bed</td>\n",
       "      <td>30985759</td>\n",
       "      <td>Taz</td>\n",
       "      <td>Manhattan</td>\n",
       "      <td>Hell's Kitchen</td>\n",
       "      <td>40.75751</td>\n",
       "      <td>-73.99112</td>\n",
       "      <td>Shared room</td>\n",
       "      <td>55</td>\n",
       "      <td>1</td>\n",
       "      <td>0</td>\n",
       "      <td>NaN</td>\n",
       "      <td>NaN</td>\n",
       "      <td>6</td>\n",
       "      <td>2</td>\n",
       "    </tr>\n",
       "    <tr>\n",
       "      <th>48894</th>\n",
       "      <td>36487245</td>\n",
       "      <td>Trendy duplex in the very heart of Hell's Kitchen</td>\n",
       "      <td>68119814</td>\n",
       "      <td>Christophe</td>\n",
       "      <td>Manhattan</td>\n",
       "      <td>Hell's Kitchen</td>\n",
       "      <td>40.76404</td>\n",
       "      <td>-73.98933</td>\n",
       "      <td>Private room</td>\n",
       "      <td>90</td>\n",
       "      <td>7</td>\n",
       "      <td>0</td>\n",
       "      <td>NaN</td>\n",
       "      <td>NaN</td>\n",
       "      <td>1</td>\n",
       "      <td>23</td>\n",
       "    </tr>\n",
       "  </tbody>\n",
       "</table>\n",
       "<p>48895 rows × 16 columns</p>\n",
       "</div>"
      ],
      "text/plain": [
       "             id                                               name   host_id  \\\n",
       "0          2539                 Clean & quiet apt home by the park      2787   \n",
       "1          2595                              Skylit Midtown Castle      2845   \n",
       "2          3647                THE VILLAGE OF HARLEM....NEW YORK !      4632   \n",
       "3          3831                    Cozy Entire Floor of Brownstone      4869   \n",
       "4          5022   Entire Apt: Spacious Studio/Loft by central park      7192   \n",
       "...         ...                                                ...       ...   \n",
       "48890  36484665    Charming one bedroom - newly renovated rowhouse   8232441   \n",
       "48891  36485057      Affordable room in Bushwick/East Williamsburg   6570630   \n",
       "48892  36485431            Sunny Studio at Historical Neighborhood  23492952   \n",
       "48893  36485609               43rd St. Time Square-cozy single bed  30985759   \n",
       "48894  36487245  Trendy duplex in the very heart of Hell's Kitchen  68119814   \n",
       "\n",
       "           host_name neighbourhood_group       neighbourhood  latitude  \\\n",
       "0               John            Brooklyn          Kensington  40.64749   \n",
       "1           Jennifer           Manhattan             Midtown  40.75362   \n",
       "2          Elisabeth           Manhattan              Harlem  40.80902   \n",
       "3        LisaRoxanne            Brooklyn        Clinton Hill  40.68514   \n",
       "4              Laura           Manhattan         East Harlem  40.79851   \n",
       "...              ...                 ...                 ...       ...   \n",
       "48890        Sabrina            Brooklyn  Bedford-Stuyvesant  40.67853   \n",
       "48891        Marisol            Brooklyn            Bushwick  40.70184   \n",
       "48892  Ilgar & Aysel           Manhattan              Harlem  40.81475   \n",
       "48893            Taz           Manhattan      Hell's Kitchen  40.75751   \n",
       "48894     Christophe           Manhattan      Hell's Kitchen  40.76404   \n",
       "\n",
       "       longitude        room_type  price  minimum_nights  number_of_reviews  \\\n",
       "0      -73.97237     Private room    149               1                  9   \n",
       "1      -73.98377  Entire home/apt    225               1                 45   \n",
       "2      -73.94190     Private room    150               3                  0   \n",
       "3      -73.95976  Entire home/apt     89               1                270   \n",
       "4      -73.94399  Entire home/apt     80              10                  9   \n",
       "...          ...              ...    ...             ...                ...   \n",
       "48890  -73.94995     Private room     70               2                  0   \n",
       "48891  -73.93317     Private room     40               4                  0   \n",
       "48892  -73.94867  Entire home/apt    115              10                  0   \n",
       "48893  -73.99112      Shared room     55               1                  0   \n",
       "48894  -73.98933     Private room     90               7                  0   \n",
       "\n",
       "      last_review  reviews_per_month  calculated_host_listings_count  \\\n",
       "0      2018-10-19               0.21                               6   \n",
       "1      2019-05-21               0.38                               2   \n",
       "2             NaN                NaN                               1   \n",
       "3      2019-07-05               4.64                               1   \n",
       "4      2018-11-19               0.10                               1   \n",
       "...           ...                ...                             ...   \n",
       "48890         NaN                NaN                               2   \n",
       "48891         NaN                NaN                               2   \n",
       "48892         NaN                NaN                               1   \n",
       "48893         NaN                NaN                               6   \n",
       "48894         NaN                NaN                               1   \n",
       "\n",
       "       availability_365  \n",
       "0                   365  \n",
       "1                   355  \n",
       "2                   365  \n",
       "3                   194  \n",
       "4                     0  \n",
       "...                 ...  \n",
       "48890                 9  \n",
       "48891                36  \n",
       "48892                27  \n",
       "48893                 2  \n",
       "48894                23  \n",
       "\n",
       "[48895 rows x 16 columns]"
      ]
     },
     "execution_count": 4,
     "metadata": {},
     "output_type": "execute_result"
    }
   ],
   "source": [
    "\n",
    "df"
   ]
  },
  {
   "cell_type": "markdown",
   "id": "1438dcc0",
   "metadata": {},
   "source": [
    "Use the sort_values() method to sort the whole data frame by specific columns. To keep using the sorted data frame in the rest of the notebook, we need to overwrite the variable."
   ]
  },
  {
   "cell_type": "code",
   "execution_count": 8,
   "id": "cf4741a2",
   "metadata": {},
   "outputs": [],
   "source": [
    "df = df.sort_values(['price'])"
   ]
  },
  {
   "cell_type": "markdown",
   "id": "0cf0c3a4",
   "metadata": {},
   "source": [
    "Now if we look at the price column, the values should start out low, because the data frame has been sorted on price."
   ]
  },
  {
   "cell_type": "code",
   "execution_count": 11,
   "id": "d9c72c7e",
   "metadata": {},
   "outputs": [
    {
     "data": {
      "text/plain": [
       "25796    0\n",
       "25795    0\n",
       "25794    0\n",
       "25753    0\n",
       "26841    0\n",
       "25433    0\n",
       "25634    0\n",
       "26259    0\n",
       "26866    0\n",
       "25778    0\n",
       "Name: price, dtype: int64"
      ]
     },
     "execution_count": 11,
     "metadata": {},
     "output_type": "execute_result"
    }
   ],
   "source": [
    "df.price.head(10)"
   ]
  },
  {
   "cell_type": "markdown",
   "id": "7bb25f97",
   "metadata": {},
   "source": [
    "What if we want to have the data frame worted by price, but start with the most expensive?"
   ]
  },
  {
   "cell_type": "code",
   "execution_count": 13,
   "id": "17f83a55",
   "metadata": {},
   "outputs": [],
   "source": [
    "df = df.sort_values(['price'], ascending=False)"
   ]
  },
  {
   "cell_type": "code",
   "execution_count": 15,
   "id": "41241635",
   "metadata": {},
   "outputs": [
    {
     "data": {
      "text/plain": [
       "17692    10000\n",
       "29238    10000\n",
       "9151     10000\n",
       "12342     9999\n",
       "6530      9999\n",
       "Name: price, dtype: int64"
      ]
     },
     "execution_count": 15,
     "metadata": {},
     "output_type": "execute_result"
    }
   ],
   "source": [
    "df.price.head()"
   ]
  },
  {
   "cell_type": "markdown",
   "id": "f2302a4c",
   "metadata": {},
   "source": [
    "We can also look at the other columns and they'll also be sorted by price. We can see what the most expensive listings are called."
   ]
  },
  {
   "cell_type": "code",
   "execution_count": 17,
   "id": "798551fd",
   "metadata": {},
   "outputs": [
    {
     "data": {
      "text/plain": [
       "17692      Luxury 1 bedroom apt. -stunning Manhattan views\n",
       "29238                                  1-BR Lincoln Center\n",
       "9151                   Furnished room in Astoria apartment\n",
       "12342                  Quiet, Clean, Lit @ LES & Chinatown\n",
       "6530                                    Spanish Harlem Apt\n",
       "40433    2br - The Heart of NYC: Manhattans Lower East ...\n",
       "30268    Beautiful/Spacious 1 bed luxury flat-TriBeCa/Soho\n",
       "4377                                         Film Location\n",
       "29662            East 72nd Townhouse by (Hidden by Airbnb)\n",
       "42523                  70' Luxury MotorYacht on the Hudson\n",
       "45666                                 Gem of east Flatbush\n",
       "44034                     3000 sq ft daylight photo studio\n",
       "37194                 Apartment New York \\nHell’s Kitchens\n",
       "48043         Luxury TriBeCa Apartment at an amazing price\n",
       "3774                      SUPER BOWL Brooklyn Duplex Apt!!\n",
       "Name: name, dtype: object"
      ]
     },
     "execution_count": 17,
     "metadata": {},
     "output_type": "execute_result"
    }
   ],
   "source": [
    "df.name.head(15)"
   ]
  },
  {
   "cell_type": "markdown",
   "id": "88db3eed",
   "metadata": {},
   "source": [
    "What if we want to wrot by more than one column? Let's sort by minimum nights and price, in that order."
   ]
  },
  {
   "cell_type": "code",
   "execution_count": 20,
   "id": "6ee4d1c7",
   "metadata": {},
   "outputs": [],
   "source": [
    "df = df.sort_values(['minimum_nights', 'price'], ascending=False)"
   ]
  },
  {
   "cell_type": "markdown",
   "id": "b95c9377",
   "metadata": {},
   "source": [
    "If we only want to see certain columns, we can index using a list of the column names we want to see."
   ]
  },
  {
   "cell_type": "code",
   "execution_count": 21,
   "id": "fae983ca",
   "metadata": {},
   "outputs": [
    {
     "data": {
      "text/html": [
       "<div>\n",
       "<style scoped>\n",
       "    .dataframe tbody tr th:only-of-type {\n",
       "        vertical-align: middle;\n",
       "    }\n",
       "\n",
       "    .dataframe tbody tr th {\n",
       "        vertical-align: top;\n",
       "    }\n",
       "\n",
       "    .dataframe thead th {\n",
       "        text-align: right;\n",
       "    }\n",
       "</style>\n",
       "<table border=\"1\" class=\"dataframe\">\n",
       "  <thead>\n",
       "    <tr style=\"text-align: right;\">\n",
       "      <th></th>\n",
       "      <th>name</th>\n",
       "      <th>price</th>\n",
       "      <th>minimum_nights</th>\n",
       "    </tr>\n",
       "  </thead>\n",
       "  <tbody>\n",
       "    <tr>\n",
       "      <th>5767</th>\n",
       "      <td>Prime W. Village location 1 bdrm</td>\n",
       "      <td>180</td>\n",
       "      <td>1250</td>\n",
       "    </tr>\n",
       "    <tr>\n",
       "      <th>2854</th>\n",
       "      <td>NaN</td>\n",
       "      <td>400</td>\n",
       "      <td>1000</td>\n",
       "    </tr>\n",
       "    <tr>\n",
       "      <th>38664</th>\n",
       "      <td>Shared Studio (females only)</td>\n",
       "      <td>110</td>\n",
       "      <td>999</td>\n",
       "    </tr>\n",
       "    <tr>\n",
       "      <th>13404</th>\n",
       "      <td>Historic Designer 2 Bed. Apartment</td>\n",
       "      <td>99</td>\n",
       "      <td>999</td>\n",
       "    </tr>\n",
       "    <tr>\n",
       "      <th>26341</th>\n",
       "      <td>Beautiful place in Brooklyn! #2</td>\n",
       "      <td>79</td>\n",
       "      <td>999</td>\n",
       "    </tr>\n",
       "    <tr>\n",
       "      <th>...</th>\n",
       "      <td>...</td>\n",
       "      <td>...</td>\n",
       "      <td>...</td>\n",
       "    </tr>\n",
       "    <tr>\n",
       "      <th>27972</th>\n",
       "      <td>Spacious 2-bedroom Apt in Heart of Greenpoint</td>\n",
       "      <td>10</td>\n",
       "      <td>1</td>\n",
       "    </tr>\n",
       "    <tr>\n",
       "      <th>33505</th>\n",
       "      <td>Room with a view</td>\n",
       "      <td>10</td>\n",
       "      <td>1</td>\n",
       "    </tr>\n",
       "    <tr>\n",
       "      <th>25795</th>\n",
       "      <td>Contemporary bedroom in brownstone with nice view</td>\n",
       "      <td>0</td>\n",
       "      <td>1</td>\n",
       "    </tr>\n",
       "    <tr>\n",
       "      <th>25794</th>\n",
       "      <td>Spacious comfortable master bedroom with nice ...</td>\n",
       "      <td>0</td>\n",
       "      <td>1</td>\n",
       "    </tr>\n",
       "    <tr>\n",
       "      <th>25796</th>\n",
       "      <td>Cozy yet spacious private brownstone bedroom</td>\n",
       "      <td>0</td>\n",
       "      <td>1</td>\n",
       "    </tr>\n",
       "  </tbody>\n",
       "</table>\n",
       "<p>48895 rows × 3 columns</p>\n",
       "</div>"
      ],
      "text/plain": [
       "                                                    name  price  \\\n",
       "5767                    Prime W. Village location 1 bdrm    180   \n",
       "2854                                                 NaN    400   \n",
       "38664                       Shared Studio (females only)    110   \n",
       "13404                 Historic Designer 2 Bed. Apartment     99   \n",
       "26341                    Beautiful place in Brooklyn! #2     79   \n",
       "...                                                  ...    ...   \n",
       "27972      Spacious 2-bedroom Apt in Heart of Greenpoint     10   \n",
       "33505                                   Room with a view     10   \n",
       "25795  Contemporary bedroom in brownstone with nice view      0   \n",
       "25794  Spacious comfortable master bedroom with nice ...      0   \n",
       "25796       Cozy yet spacious private brownstone bedroom      0   \n",
       "\n",
       "       minimum_nights  \n",
       "5767             1250  \n",
       "2854             1000  \n",
       "38664             999  \n",
       "13404             999  \n",
       "26341             999  \n",
       "...               ...  \n",
       "27972               1  \n",
       "33505               1  \n",
       "25795               1  \n",
       "25794               1  \n",
       "25796               1  \n",
       "\n",
       "[48895 rows x 3 columns]"
      ]
     },
     "execution_count": 21,
     "metadata": {},
     "output_type": "execute_result"
    }
   ],
   "source": [
    "df[['name', 'price', 'minimum_nights']]"
   ]
  },
  {
   "cell_type": "markdown",
   "id": "5019e1c4",
   "metadata": {},
   "source": [
    "\n",
    "# Indexing by Matching Strings\n",
    "\n",
    "Looking up specific rows by matching on their strings.\n",
    "\n",
    "In class, we picked the word \"trendy.\" Then we can create a new data set (a subset) that is only the listings that contain the word \"trendy.\""
   ]
  },
  {
   "cell_type": "code",
   "execution_count": 22,
   "id": "7ae031c5",
   "metadata": {},
   "outputs": [],
   "source": [
    "word_to_look_up = 'trendy'"
   ]
  },
  {
   "cell_type": "markdown",
   "id": "2bf5138b",
   "metadata": {},
   "source": [
    "When indexing, we first create the boolean series, then we use that series to index. This is similar to when we used contiditionals (i.e., price > 50) to create a list of booleans, then passed that list to our df object. In this case, we create our list of booleans using the str.contains() method.\n",
    "\n",
    "One issue is that the contains() method is case sensitive. If we want all uses of the word \"trendy,\" we first should make the whole column (name) lower case. For that, we use the str.lower() method first."
   ]
  },
  {
   "cell_type": "code",
   "execution_count": 23,
   "id": "8a5d88b8",
   "metadata": {},
   "outputs": [],
   "source": [
    "trendy_bools = df.name.str.lower().str.contains(word_to_look_up)"
   ]
  },
  {
   "cell_type": "code",
   "execution_count": 25,
   "id": "5fc752db",
   "metadata": {},
   "outputs": [
    {
     "data": {
      "text/plain": [
       "5767     False\n",
       "2854       NaN\n",
       "38664    False\n",
       "13404    False\n",
       "26341    False\n",
       "         ...  \n",
       "27972    False\n",
       "33505    False\n",
       "25795    False\n",
       "25794    False\n",
       "25796    False\n",
       "Name: name, Length: 48895, dtype: object"
      ]
     },
     "execution_count": 25,
     "metadata": {},
     "output_type": "execute_result"
    }
   ],
   "source": [
    "trendy_bools"
   ]
  },
  {
   "cell_type": "markdown",
   "id": "4377b722",
   "metadata": {},
   "source": [
    "Notice there are some values in the boolean series that we aren't familiar with: NaN. NaN means that there is no data in that cell, or in that row of the series. We can't index if there are NaN values in the series, so we have to do a step that turns the NaN values into False instead."
   ]
  },
  {
   "cell_type": "code",
   "execution_count": 27,
   "id": "7ebd24ef",
   "metadata": {},
   "outputs": [
    {
     "data": {
      "text/plain": [
       "5767     False\n",
       "2854     False\n",
       "38664    False\n",
       "13404    False\n",
       "26341    False\n",
       "         ...  \n",
       "27972    False\n",
       "33505    False\n",
       "25795    False\n",
       "25794    False\n",
       "25796    False\n",
       "Name: name, Length: 48895, dtype: bool"
      ]
     },
     "execution_count": 27,
     "metadata": {},
     "output_type": "execute_result"
    }
   ],
   "source": [
    "trendy_bools = trendy_bools == True\n",
    "\n",
    "trendy_bools"
   ]
  },
  {
   "cell_type": "markdown",
   "id": "2281bad8",
   "metadata": {},
   "source": [
    "Now we can do our indexing step, passing our bollean list back into the data frame using thedf[] syntax to index it."
   ]
  },
  {
   "cell_type": "code",
   "execution_count": 28,
   "id": "db971ba9",
   "metadata": {},
   "outputs": [],
   "source": [
    "trendy_df = df[trendy_bools]"
   ]
  },
  {
   "cell_type": "markdown",
   "id": "928247d0",
   "metadata": {},
   "source": [
    "How many items contain the word trendy? We can use the len() function to see the length in rows of the new data frame."
   ]
  },
  {
   "cell_type": "code",
   "execution_count": 29,
   "id": "7f5dfed1",
   "metadata": {},
   "outputs": [
    {
     "data": {
      "text/plain": [
       "248"
      ]
     },
     "execution_count": 29,
     "metadata": {},
     "output_type": "execute_result"
    }
   ],
   "source": [
    "len(trendy_df)"
   ]
  },
  {
   "cell_type": "markdown",
   "id": "8e9aab87",
   "metadata": {},
   "source": [
    "I'm curious what neighborhoods are considered trendy. We can use a new method, value_counts(), which counts each instance in a series and shows the result."
   ]
  },
  {
   "cell_type": "code",
   "execution_count": 34,
   "id": "689d6eed",
   "metadata": {},
   "outputs": [
    {
     "data": {
      "text/plain": [
       "Williamsburg          47\n",
       "Bushwick              38\n",
       "Bedford-Stuyvesant    22\n",
       "Lower East Side       17\n",
       "East Village          14\n",
       "Harlem                11\n",
       "Greenpoint             9\n",
       "Chelsea                6\n",
       "Hell's Kitchen         6\n",
       "Crown Heights          6\n",
       "Name: neighbourhood, dtype: int64"
      ]
     },
     "execution_count": 34,
     "metadata": {},
     "output_type": "execute_result"
    }
   ],
   "source": [
    "trendy_df.neighbourhood.value_counts().head(10)"
   ]
  },
  {
   "cell_type": "markdown",
   "id": "6735d649",
   "metadata": {},
   "source": [
    "We can do the same with the borough:"
   ]
  },
  {
   "cell_type": "code",
   "execution_count": 67,
   "id": "e5021d35",
   "metadata": {},
   "outputs": [
    {
     "data": {
      "text/plain": [
       "Brooklyn     150\n",
       "Manhattan     85\n",
       "Queens        12\n",
       "Bronx          1\n",
       "Name: neighbourhood_group, dtype: int64"
      ]
     },
     "execution_count": 67,
     "metadata": {},
     "output_type": "execute_result"
    }
   ],
   "source": [
    "trendy_df.neighbourhood_group.value_counts()"
   ]
  },
  {
   "cell_type": "markdown",
   "id": "d3d61c3e",
   "metadata": {},
   "source": [
    "# Handling Capitalization\n",
    "\n",
    "Here's an exampole of how the str.lower() method works, since we didn't sepnd much time on it earlier.\n",
    "\n",
    "Here's the normal capitalization:"
   ]
  },
  {
   "cell_type": "code",
   "execution_count": 36,
   "id": "f0544018",
   "metadata": {},
   "outputs": [
    {
     "data": {
      "text/plain": [
       "5767                      Prime W. Village location 1 bdrm\n",
       "2854                                                   NaN\n",
       "38664                         Shared Studio (females only)\n",
       "13404                   Historic Designer 2 Bed. Apartment\n",
       "26341                      Beautiful place in Brooklyn! #2\n",
       "                               ...                        \n",
       "27972        Spacious 2-bedroom Apt in Heart of Greenpoint\n",
       "33505                                     Room with a view\n",
       "25795    Contemporary bedroom in brownstone with nice view\n",
       "25794    Spacious comfortable master bedroom with nice ...\n",
       "25796         Cozy yet spacious private brownstone bedroom\n",
       "Name: name, Length: 48895, dtype: object"
      ]
     },
     "execution_count": 36,
     "metadata": {},
     "output_type": "execute_result"
    }
   ],
   "source": [
    "df.name"
   ]
  },
  {
   "cell_type": "markdown",
   "id": "24daff38",
   "metadata": {},
   "source": [
    "Here's all lower case:"
   ]
  },
  {
   "cell_type": "code",
   "execution_count": 42,
   "id": "95c80b12",
   "metadata": {},
   "outputs": [
    {
     "data": {
      "text/plain": [
       "5767                      prime w. village location 1 bdrm\n",
       "2854                                                   NaN\n",
       "38664                         shared studio (females only)\n",
       "13404                   historic designer 2 bed. apartment\n",
       "26341                      beautiful place in brooklyn! #2\n",
       "                               ...                        \n",
       "27972        spacious 2-bedroom apt in heart of greenpoint\n",
       "33505                                     room with a view\n",
       "25795    contemporary bedroom in brownstone with nice view\n",
       "25794    spacious comfortable master bedroom with nice ...\n",
       "25796         cozy yet spacious private brownstone bedroom\n",
       "Name: name, Length: 48895, dtype: object"
      ]
     },
     "execution_count": 42,
     "metadata": {},
     "output_type": "execute_result"
    }
   ],
   "source": [
    "df.name.str.lower()"
   ]
  },
  {
   "cell_type": "markdown",
   "id": "79171907",
   "metadata": {},
   "source": [
    "It's not that useful, but we can also do all uppercase if we want:"
   ]
  },
  {
   "cell_type": "code",
   "execution_count": 44,
   "id": "47271b01",
   "metadata": {},
   "outputs": [
    {
     "data": {
      "text/plain": [
       "5767                      PRIME W. VILLAGE LOCATION 1 BDRM\n",
       "2854                                                   NaN\n",
       "38664                         SHARED STUDIO (FEMALES ONLY)\n",
       "13404                   HISTORIC DESIGNER 2 BED. APARTMENT\n",
       "26341                      BEAUTIFUL PLACE IN BROOKLYN! #2\n",
       "                               ...                        \n",
       "27972        SPACIOUS 2-BEDROOM APT IN HEART OF GREENPOINT\n",
       "33505                                     ROOM WITH A VIEW\n",
       "25795    CONTEMPORARY BEDROOM IN BROWNSTONE WITH NICE VIEW\n",
       "25794    SPACIOUS COMFORTABLE MASTER BEDROOM WITH NICE ...\n",
       "25796         COZY YET SPACIOUS PRIVATE BROWNSTONE BEDROOM\n",
       "Name: name, Length: 48895, dtype: object"
      ]
     },
     "execution_count": 44,
     "metadata": {},
     "output_type": "execute_result"
    }
   ],
   "source": [
    "df.name.str.upper()"
   ]
  },
  {
   "cell_type": "markdown",
   "id": "fefe8379",
   "metadata": {},
   "source": [
    "And also title case:"
   ]
  },
  {
   "cell_type": "code",
   "execution_count": 45,
   "id": "5f127214",
   "metadata": {},
   "outputs": [
    {
     "data": {
      "text/plain": [
       "5767                      Prime W. Village Location 1 Bdrm\n",
       "2854                                                   NaN\n",
       "38664                         Shared Studio (Females Only)\n",
       "13404                   Historic Designer 2 Bed. Apartment\n",
       "26341                      Beautiful Place In Brooklyn! #2\n",
       "                               ...                        \n",
       "27972        Spacious 2-Bedroom Apt In Heart Of Greenpoint\n",
       "33505                                     Room With A View\n",
       "25795    Contemporary Bedroom In Brownstone With Nice View\n",
       "25794    Spacious Comfortable Master Bedroom With Nice ...\n",
       "25796         Cozy Yet Spacious Private Brownstone Bedroom\n",
       "Name: name, Length: 48895, dtype: object"
      ]
     },
     "execution_count": 45,
     "metadata": {},
     "output_type": "execute_result"
    }
   ],
   "source": [
    "df.name.str.title()"
   ]
  }
 ],
 "metadata": {
  "kernelspec": {
   "display_name": "Python 3",
   "language": "python",
   "name": "python3"
  },
  "language_info": {
   "codemirror_mode": {
    "name": "ipython",
    "version": 3
   },
   "file_extension": ".py",
   "mimetype": "text/x-python",
   "name": "python",
   "nbconvert_exporter": "python",
   "pygments_lexer": "ipython3",
   "version": "3.8.8"
  }
 },
 "nbformat": 4,
 "nbformat_minor": 5
}
