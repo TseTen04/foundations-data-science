{
 "cells": [
  {
   "cell_type": "code",
   "execution_count": 1,
   "id": "d074fde5",
   "metadata": {},
   "outputs": [],
   "source": [
    "import pandas"
   ]
  },
  {
   "cell_type": "code",
   "execution_count": 2,
   "id": "d5148a61",
   "metadata": {},
   "outputs": [],
   "source": [
    "df = pandas.read_csv('https://bit.ly/electric_car_data')"
   ]
  },
  {
   "cell_type": "code",
   "execution_count": 3,
   "id": "2e73254d",
   "metadata": {},
   "outputs": [
    {
     "data": {
      "text/plain": [
       "Index(['Name', 'Subtitle', 'Acceleration', 'TopSpeed', 'Range', 'Efficiency',\n",
       "       'FastChargeSpeed', 'Drive', 'NumberofSeats', 'PriceinGermany',\n",
       "       'PriceinUK'],\n",
       "      dtype='object')"
      ]
     },
     "execution_count": 3,
     "metadata": {},
     "output_type": "execute_result"
    }
   ],
   "source": [
    "df.columns"
   ]
  },
  {
   "cell_type": "code",
   "execution_count": 4,
   "id": "a09134a3",
   "metadata": {},
   "outputs": [],
   "source": [
    "def remove_units(string):\n",
    "    return float(string.split(' ')[0])"
   ]
  },
  {
   "cell_type": "code",
   "execution_count": 5,
   "id": "4e0ba04a",
   "metadata": {},
   "outputs": [],
   "source": [
    "def remove_money_sign(string):\n",
    "    string = string.replace(',', '')\n",
    "    return float(string[1:])"
   ]
  },
  {
   "cell_type": "code",
   "execution_count": 6,
   "id": "bea0d33d",
   "metadata": {},
   "outputs": [
    {
     "data": {
      "text/plain": [
       "0       7.3\n",
       "1      22.4\n",
       "2       7.9\n",
       "3       5.7\n",
       "4       2.8\n",
       "       ... \n",
       "175     7.9\n",
       "176     4.4\n",
       "177     7.7\n",
       "178     6.9\n",
       "179     8.5\n",
       "Name: Acceleration, Length: 180, dtype: float64"
      ]
     },
     "execution_count": 6,
     "metadata": {},
     "output_type": "execute_result"
    }
   ],
   "source": [
    "df.Acceleration.apply(remove_units)"
   ]
  },
  {
   "cell_type": "code",
   "execution_count": 7,
   "id": "93dc5f09",
   "metadata": {},
   "outputs": [
    {
     "ename": "NameError",
     "evalue": "name 'cleaned_column' is not defined",
     "output_type": "error",
     "traceback": [
      "\u001b[0;31m---------------------------------------------------------------------------\u001b[0m",
      "\u001b[0;31mNameError\u001b[0m                                 Traceback (most recent call last)",
      "\u001b[0;32m<ipython-input-7-560e2daac352>\u001b[0m in \u001b[0;36m<module>\u001b[0;34m\u001b[0m\n\u001b[0;32m----> 1\u001b[0;31m \u001b[0mdf\u001b[0m\u001b[0;34m.\u001b[0m\u001b[0mAcceleration\u001b[0m  \u001b[0;34m=\u001b[0m \u001b[0mcleaned_column\u001b[0m\u001b[0;34m\u001b[0m\u001b[0;34m\u001b[0m\u001b[0m\n\u001b[0m",
      "\u001b[0;31mNameError\u001b[0m: name 'cleaned_column' is not defined"
     ]
    }
   ],
   "source": [
    "df.Acceleration  = cleaned_column"
   ]
  },
  {
   "cell_type": "code",
   "execution_count": 8,
   "id": "338c0e4e",
   "metadata": {},
   "outputs": [],
   "source": [
    "df.Efficiency =  df.Efficiency.apply(remove_units\n",
    "                )"
   ]
  },
  {
   "cell_type": "code",
   "execution_count": 9,
   "id": "e6306c28",
   "metadata": {},
   "outputs": [
    {
     "data": {
      "text/plain": [
       "0           NaN\n",
       "1       £31,680\n",
       "2       £25,995\n",
       "3       £79,900\n",
       "4      £138,830\n",
       "         ...   \n",
       "175         NaN\n",
       "176         NaN\n",
       "177     £26,495\n",
       "178         NaN\n",
       "179         NaN\n",
       "Name: PriceinUK, Length: 180, dtype: object"
      ]
     },
     "execution_count": 9,
     "metadata": {},
     "output_type": "execute_result"
    }
   ],
   "source": [
    "df.PriceinUK"
   ]
  },
  {
   "cell_type": "code",
   "execution_count": 10,
   "id": "33f945f4",
   "metadata": {},
   "outputs": [],
   "source": [
    "df = df[df.PriceinUK.notna()]"
   ]
  },
  {
   "cell_type": "code",
   "execution_count": 11,
   "id": "bc0d5aee",
   "metadata": {},
   "outputs": [],
   "source": [
    "df.PriceinUK = df.PriceinUK.apply(remove_money_sign)"
   ]
  },
  {
   "cell_type": "code",
   "execution_count": 12,
   "id": "242d796e",
   "metadata": {},
   "outputs": [
    {
     "data": {
      "text/plain": [
       "1       31680.0\n",
       "2       25995.0\n",
       "3       79900.0\n",
       "4      138830.0\n",
       "5       30255.0\n",
       "         ...   \n",
       "171     49950.0\n",
       "172     32500.0\n",
       "173     30375.0\n",
       "174     32455.0\n",
       "177     26495.0\n",
       "Name: PriceinUK, Length: 136, dtype: float64"
      ]
     },
     "execution_count": 12,
     "metadata": {},
     "output_type": "execute_result"
    }
   ],
   "source": [
    "df.PriceinUK"
   ]
  },
  {
   "cell_type": "code",
   "execution_count": 13,
   "id": "19f8e80b",
   "metadata": {},
   "outputs": [
    {
     "name": "stdout",
     "output_type": "stream",
     "text": [
      "<class 'pandas.core.frame.DataFrame'>\n",
      "Int64Index: 136 entries, 1 to 177\n",
      "Data columns (total 11 columns):\n",
      " #   Column           Non-Null Count  Dtype  \n",
      "---  ------           --------------  -----  \n",
      " 0   Name             136 non-null    object \n",
      " 1   Subtitle         136 non-null    object \n",
      " 2   Acceleration     136 non-null    object \n",
      " 3   TopSpeed         136 non-null    object \n",
      " 4   Range            136 non-null    object \n",
      " 5   Efficiency       136 non-null    float64\n",
      " 6   FastChargeSpeed  136 non-null    object \n",
      " 7   Drive            136 non-null    object \n",
      " 8   NumberofSeats    136 non-null    int64  \n",
      " 9   PriceinGermany   127 non-null    object \n",
      " 10  PriceinUK        136 non-null    float64\n",
      "dtypes: float64(2), int64(1), object(8)\n",
      "memory usage: 12.8+ KB\n"
     ]
    }
   ],
   "source": [
    "df.info()"
   ]
  },
  {
   "cell_type": "code",
   "execution_count": 14,
   "id": "7ec4aef7",
   "metadata": {},
   "outputs": [
    {
     "data": {
      "text/plain": [
       "<AxesSubplot:xlabel='Efficiency', ylabel='PriceinUK'>"
      ]
     },
     "execution_count": 14,
     "metadata": {},
     "output_type": "execute_result"
    },
    {
     "data": {
      "image/png": "[encoded data removed]",
      "text/plain": [
       "<Figure size 432x288 with 1 Axes>"
      ]
     },
     "metadata": {
      "needs_background": "light"
     },
     "output_type": "display_data"
    }
   ],
   "source": [
    "df.plot(kind='scatter', x='Efficiency', y='PriceinUK')"
   ]
  },
  {
   "cell_type": "code",
   "execution_count": 15,
   "id": "34e9694e",
   "metadata": {},
   "outputs": [],
   "source": [
    "from sklearn.linear_model import LinearRegression\n"
   ]
  },
  {
   "cell_type": "code",
   "execution_count": 17,
   "id": "31dd7365",
   "metadata": {},
   "outputs": [],
   "source": [
    "linear_regressor = LinearRegression()\n"
   ]
  },
  {
   "cell_type": "code",
   "execution_count": 34,
   "id": "644ef81f",
   "metadata": {},
   "outputs": [],
   "source": [
    "#y = df.PriceinUK\n",
    "x = df.Efficiency.values.reshape(-1, 1)\n",
    "y = df.PriceinUK.values.reshape(-1, 1)\n"
   ]
  },
  {
   "cell_type": "code",
   "execution_count": 41,
   "id": "b4d5df36",
   "metadata": {},
   "outputs": [],
   "source": [
    "import matplotlib.pyplot as plt"
   ]
  },
  {
   "cell_type": "code",
   "execution_count": 39,
   "id": "16f9081b",
   "metadata": {},
   "outputs": [],
   "source": [
    "linear_regressor = LinearRegression()\n",
    "linear_regressor.fit(x, y)\n",
    "\n",
    "Y_pred = linear_regressor.predict(x)\n"
   ]
  },
  {
   "cell_type": "code",
   "execution_count": 48,
   "id": "73f0ccec",
   "metadata": {},
   "outputs": [
    {
     "data": {
      "text/plain": [
       "[<matplotlib.lines.Line2D at 0x7f904a0b0910>]"
      ]
     },
     "execution_count": 48,
     "metadata": {},
     "output_type": "execute_result"
    },
    {
     "data": {
      "image/png": "[encoded data removed]",
      "text/plain": [
       "<Figure size 432x288 with 1 Axes>"
      ]
     },
     "metadata": {
      "needs_background": "light"
     },
     "output_type": "display_data"
    }
   ],
   "source": [
    "plt.scatter(x, y)\n",
    "plt.plot(x, Y_pred)"
   ]
  },
  {
   "cell_type": "code",
   "execution_count": 49,
   "id": "08fcc00f",
   "metadata": {},
   "outputs": [],
   "source": []
  }
 ],
 "metadata": {
  "kernelspec": {
   "display_name": "Python 3",
   "language": "python",
   "name": "python3"
  },
  "language_info": {
   "codemirror_mode": {
    "name": "ipython",
    "version": 3
   },
   "file_extension": ".py",
   "mimetype": "text/x-python",
   "name": "python",
   "nbconvert_exporter": "python",
   "pygments_lexer": "ipython3",
   "version": "3.8.8"
  }
 },
 "nbformat": 4,
 "nbformat_minor": 5
}
