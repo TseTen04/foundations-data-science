{
 "cells": [
  {
   "cell_type": "markdown",
   "id": "10378256",
   "metadata": {},
   "source": [
    "# Indexing Review\n"
   ]
  },
  {
   "cell_type": "code",
   "execution_count": 2,
   "id": "2aaa80fa",
   "metadata": {},
   "outputs": [],
   "source": [
    "import pandas"
   ]
  },
  {
   "cell_type": "code",
   "execution_count": 6,
   "id": "1b1cce08",
   "metadata": {},
   "outputs": [],
   "source": [
    "df = pandas.read_csv('http://bit.ly/airbnbcsv')\n",
    "\n"
   ]
  },
  {
   "cell_type": "code",
   "execution_count": 13,
   "id": "1f597ead",
   "metadata": {},
   "outputs": [],
   "source": [
    "budget =  [100, 150, 50, 80, 40]\n",
    "\n",
    "s = pandas.Series(budget)"
   ]
  },
  {
   "cell_type": "code",
   "execution_count": 14,
   "id": "cc2ec218",
   "metadata": {},
   "outputs": [
    {
     "data": {
      "text/plain": [
       "0    100\n",
       "1    150\n",
       "2     50\n",
       "3     80\n",
       "4     40\n",
       "dtype: int64"
      ]
     },
     "execution_count": 14,
     "metadata": {},
     "output_type": "execute_result"
    }
   ],
   "source": [
    "s"
   ]
  },
  {
   "cell_type": "code",
   "execution_count": 15,
   "id": "db9a09bb",
   "metadata": {},
   "outputs": [
    {
     "data": {
      "text/plain": [
       "0     True\n",
       "1     True\n",
       "2    False\n",
       "3     True\n",
       "4    False\n",
       "dtype: bool"
      ]
     },
     "execution_count": 15,
     "metadata": {},
     "output_type": "execute_result"
    }
   ],
   "source": [
    "s > 70"
   ]
  },
  {
   "cell_type": "code",
   "execution_count": null,
   "id": "6531d386",
   "metadata": {},
   "outputs": [],
   "source": []
  },
  {
   "cell_type": "code",
   "execution_count": 17,
   "id": "6a8648ff",
   "metadata": {},
   "outputs": [
    {
     "data": {
      "text/plain": [
       "0     True\n",
       "1    False\n",
       "2    False\n",
       "3    False\n",
       "4    False\n",
       "dtype: bool"
      ]
     },
     "execution_count": 17,
     "metadata": {},
     "output_type": "execute_result"
    }
   ],
   "source": [
    "s == 100"
   ]
  },
  {
   "cell_type": "code",
   "execution_count": null,
   "id": "a770dd88",
   "metadata": {},
   "outputs": [],
   "source": []
  },
  {
   "cell_type": "code",
   "execution_count": 19,
   "id": "c95e4d98",
   "metadata": {},
   "outputs": [
    {
     "data": {
      "text/plain": [
       "0    False\n",
       "1    False\n",
       "2     True\n",
       "3    False\n",
       "4     True\n",
       "dtype: bool"
      ]
     },
     "execution_count": 19,
     "metadata": {},
     "output_type": "execute_result"
    }
   ],
   "source": [
    "s < 70"
   ]
  },
  {
   "cell_type": "markdown",
   "id": "03166e43",
   "metadata": {},
   "source": [
    "# Create a subset of airbnb data"
   ]
  },
  {
   "cell_type": "markdown",
   "id": "fecfafd3",
   "metadata": {},
   "source": [
    "Pull out the price column with the \".\" syntax"
   ]
  },
  {
   "cell_type": "code",
   "execution_count": 26,
   "id": "4ba0f430",
   "metadata": {},
   "outputs": [
    {
     "data": {
      "text/plain": [
       "0        149\n",
       "1        225\n",
       "2        150\n",
       "3         89\n",
       "4         80\n",
       "        ... \n",
       "48890     70\n",
       "48891     40\n",
       "48892    115\n",
       "48893     55\n",
       "48894     90\n",
       "Name: price, Length: 48895, dtype: int64"
      ]
     },
     "execution_count": 26,
     "metadata": {},
     "output_type": "execute_result"
    }
   ],
   "source": [
    "df.price"
   ]
  },
  {
   "cell_type": "code",
   "execution_count": 24,
   "id": "65b120e4",
   "metadata": {},
   "outputs": [
    {
     "data": {
      "text/plain": [
       "pandas.core.series.Series"
      ]
     },
     "execution_count": 24,
     "metadata": {},
     "output_type": "execute_result"
    }
   ],
   "source": [
    "type(df.price)"
   ]
  },
  {
   "cell_type": "markdown",
   "id": "58457adb",
   "metadata": {},
   "source": [
    "Make a boolean series using a comparison:"
   ]
  },
  {
   "cell_type": "code",
   "execution_count": 34,
   "id": "5aceb17d",
   "metadata": {},
   "outputs": [],
   "source": [
    "expensive_bools = df.price > 400"
   ]
  },
  {
   "cell_type": "markdown",
   "id": "638f11c6",
   "metadata": {},
   "source": [
    "Use the series of booleans to pull out all the expensive airbnbs"
   ]
  },
  {
   "cell_type": "code",
   "execution_count": 37,
   "id": "dde407dd",
   "metadata": {},
   "outputs": [],
   "source": [
    "expensive_df = df[expensive_bools]"
   ]
  },
  {
   "cell_type": "code",
   "execution_count": 39,
   "id": "d307e1f2",
   "metadata": {},
   "outputs": [
    {
     "data": {
      "text/plain": [
       "1763"
      ]
     },
     "execution_count": 39,
     "metadata": {},
     "output_type": "execute_result"
    }
   ],
   "source": [
    "len(expensive_df)"
   ]
  },
  {
   "cell_type": "code",
   "execution_count": 44,
   "id": "22d6c996",
   "metadata": {},
   "outputs": [
    {
     "data": {
      "text/plain": [
       "43007    Manhattan XTRA space & luxury for 12. Free Par...\n",
       "1480                   Lux 2Bed/2.5Bath Central Park Views\n",
       "21551    URBAN LUXURY 2BR DUPLEX~24/7 DOORMAN/GYM~SUTTO...\n",
       "29434          The 'TriBeCa Loft' #2 | A stylish 2 bed apt\n",
       "21925        Coney Island Private Assembly  Special Events\n",
       "44949            Mesmerizing Central Park View Awaits You!\n",
       "38313    *NO GUEST SERVICE FEE* Beekman Tower Studio Su...\n",
       "41890       94TH STREET BIGGEST 1BR SUITE WITH DOORMAN-GYM\n",
       "32765    *Luxurious* Sparkling Clean Two Bedroom Apartment\n",
       "12151           Grand Home On Kissena Park in Flushing NYC\n",
       "Name: name, dtype: object"
      ]
     },
     "execution_count": 44,
     "metadata": {},
     "output_type": "execute_result"
    }
   ],
   "source": [
    "expensive_df.name.sample(10)"
   ]
  },
  {
   "cell_type": "code",
   "execution_count": null,
   "id": "e362c9b7",
   "metadata": {},
   "outputs": [],
   "source": []
  }
 ],
 "metadata": {
  "kernelspec": {
   "display_name": "Python 3",
   "language": "python",
   "name": "python3"
  },
  "language_info": {
   "codemirror_mode": {
    "name": "ipython",
    "version": 3
   },
   "file_extension": ".py",
   "mimetype": "text/x-python",
   "name": "python",
   "nbconvert_exporter": "python",
   "pygments_lexer": "ipython3",
   "version": "3.8.8"
  }
 },
 "nbformat": 4,
 "nbformat_minor": 5
}
