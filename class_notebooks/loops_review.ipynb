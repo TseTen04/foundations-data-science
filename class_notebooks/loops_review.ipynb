{
 "cells": [
  {
   "cell_type": "code",
   "execution_count": 4,
   "id": "bf7f45a8",
   "metadata": {},
   "outputs": [
    {
     "data": {
      "text/plain": [
       "['eggs', 'cheese', 'bacon']"
      ]
     },
     "execution_count": 4,
     "metadata": {},
     "output_type": "execute_result"
    }
   ],
   "source": [
    "foods = ['eggs', 'cheese', 'bacon']\n",
    "\n",
    "foods"
   ]
  },
  {
   "cell_type": "code",
   "execution_count": 7,
   "id": "d5724462",
   "metadata": {},
   "outputs": [
    {
     "data": {
      "text/plain": [
       "{'US': 360000000, 'Canada': 70000000}"
      ]
     },
     "execution_count": 7,
     "metadata": {},
     "output_type": "execute_result"
    }
   ],
   "source": [
    "pops = {\n",
    "    'US': 360000000,\n",
    "    'Canada': 70000000,\n",
    "}\n",
    "\n",
    "pops"
   ]
  },
  {
   "cell_type": "code",
   "execution_count": 9,
   "id": "d189ed96",
   "metadata": {},
   "outputs": [
    {
     "data": {
      "text/plain": [
       "70000000"
      ]
     },
     "execution_count": 9,
     "metadata": {},
     "output_type": "execute_result"
    }
   ],
   "source": [
    "pops['Canada']"
   ]
  },
  {
   "cell_type": "code",
   "execution_count": 12,
   "id": "c068ce5d",
   "metadata": {},
   "outputs": [
    {
     "name": "stdout",
     "output_type": "stream",
     "text": [
      "I like eggs\n",
      "I like cheese\n",
      "I like bacon\n"
     ]
    }
   ],
   "source": [
    "for food in foods:\n",
    "    print('I like ' + food)"
   ]
  },
  {
   "cell_type": "code",
   "execution_count": 16,
   "id": "68def722",
   "metadata": {},
   "outputs": [
    {
     "name": "stdout",
     "output_type": "stream",
     "text": [
      "360000000\n",
      "70000000\n"
     ]
    }
   ],
   "source": [
    "for country in pops:\n",
    "    print(pops[country])"
   ]
  },
  {
   "cell_type": "code",
   "execution_count": 15,
   "id": "6d571961",
   "metadata": {},
   "outputs": [
    {
     "data": {
      "text/plain": [
       "360000000"
      ]
     },
     "execution_count": 15,
     "metadata": {},
     "output_type": "execute_result"
    }
   ],
   "source": [
    "pops['US']"
   ]
  }
 ],
 "metadata": {
  "kernelspec": {
   "display_name": "Python 3",
   "language": "python",
   "name": "python3"
  },
  "language_info": {
   "codemirror_mode": {
    "name": "ipython",
    "version": 3
   },
   "file_extension": ".py",
   "mimetype": "text/x-python",
   "name": "python",
   "nbconvert_exporter": "python",
   "pygments_lexer": "ipython3",
   "version": "3.8.8"
  }
 },
 "nbformat": 4,
 "nbformat_minor": 5
}
