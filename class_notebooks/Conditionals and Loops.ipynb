{
 "cells": [
  {
   "cell_type": "markdown",
   "id": "ca3b18f7",
   "metadata": {},
   "source": [
    "# "
   ]
  },
  {
   "cell_type": "markdown",
   "id": "50f20662",
   "metadata": {},
   "source": [
    "## "
   ]
  },
  {
   "cell_type": "code",
   "execution_count": 1,
   "id": "7ee412e6",
   "metadata": {},
   "outputs": [
    {
     "data": {
      "text/plain": [
       "'patrickSmyth'"
      ]
     },
     "execution_count": 1,
     "metadata": {},
     "output_type": "execute_result"
    }
   ],
   "source": [
    "name = \"patrick\"\n",
    "\n",
    "last_name = \"Smyth\"\n",
    "\n",
    "name + last_name"
   ]
  },
  {
   "cell_type": "markdown",
   "id": "680edd97",
   "metadata": {},
   "source": [
    "# Conditionals"
   ]
  },
  {
   "cell_type": "code",
   "execution_count": 2,
   "id": "ecefd659",
   "metadata": {},
   "outputs": [
    {
     "data": {
      "text/plain": [
       "False"
      ]
     },
     "execution_count": 2,
     "metadata": {},
     "output_type": "execute_result"
    }
   ],
   "source": [
    "10 > 100"
   ]
  },
  {
   "cell_type": "code",
   "execution_count": 3,
   "id": "3b5b5bf2",
   "metadata": {},
   "outputs": [
    {
     "data": {
      "text/plain": [
       "True"
      ]
     },
     "execution_count": 3,
     "metadata": {},
     "output_type": "execute_result"
    }
   ],
   "source": [
    "2 > 1"
   ]
  },
  {
   "cell_type": "code",
   "execution_count": 4,
   "id": "ca6c1049",
   "metadata": {},
   "outputs": [
    {
     "data": {
      "text/plain": [
       "True"
      ]
     },
     "execution_count": 4,
     "metadata": {},
     "output_type": "execute_result"
    }
   ],
   "source": [
    "100 == 100"
   ]
  },
  {
   "cell_type": "code",
   "execution_count": 5,
   "id": "608850e5",
   "metadata": {},
   "outputs": [
    {
     "data": {
      "text/plain": [
       "False"
      ]
     },
     "execution_count": 5,
     "metadata": {},
     "output_type": "execute_result"
    }
   ],
   "source": [
    "3 == 100"
   ]
  },
  {
   "cell_type": "code",
   "execution_count": 6,
   "id": "b16ca9c8",
   "metadata": {},
   "outputs": [
    {
     "name": "stdout",
     "output_type": "stream",
     "text": [
      "C\n"
     ]
    }
   ],
   "source": [
    "grade = 75\n",
    "\n",
    "if grade > 90:\n",
    "    print('A')\n",
    "elif grade > 80:\n",
    "    print('B')\n",
    "elif grade > 70:\n",
    "    print('C')\n",
    "else:\n",
    "    print('Sorry better luck next time')"
   ]
  },
  {
   "cell_type": "markdown",
   "id": "7b741103",
   "metadata": {},
   "source": [
    "# Looping"
   ]
  },
  {
   "cell_type": "markdown",
   "id": "698db30a",
   "metadata": {},
   "source": [
    "## Lists"
   ]
  },
  {
   "cell_type": "code",
   "execution_count": 7,
   "id": "901ebc1c",
   "metadata": {},
   "outputs": [
    {
     "data": {
      "text/plain": [
       "['Pfizor', 'Moderna', 'J*J']"
      ]
     },
     "execution_count": 7,
     "metadata": {},
     "output_type": "execute_result"
    }
   ],
   "source": [
    "vaccines = ['Pfizor', 'Moderna', 'J*J']\n",
    "\n",
    "vaccines\n"
   ]
  },
  {
   "cell_type": "code",
   "execution_count": 8,
   "id": "bf5e3fd8",
   "metadata": {},
   "outputs": [
    {
     "name": "stdout",
     "output_type": "stream",
     "text": [
      "Pfizor is a vaccine\n",
      "Moderna is a vaccine\n",
      "J*J is a vaccine\n"
     ]
    }
   ],
   "source": [
    "for x in vaccines:\n",
    "    print(x + ' is a vaccine')"
   ]
  },
  {
   "cell_type": "code",
   "execution_count": 9,
   "id": "4f897ea8",
   "metadata": {},
   "outputs": [
    {
     "name": "stdout",
     "output_type": "stream",
     "text": [
      "pfizor is effective\n",
      "Moderna is effective\n",
      "J&J is not effective\n"
     ]
    }
   ],
   "source": [
    "efficacy = {\n",
    "    'pfizor': 95,\n",
    "    'Moderna': 92,\n",
    "    'J&J': 87,\n",
    "}\n",
    "\n",
    "for vaccine in efficacy:\n",
    "    score = efficacy[vaccine]\n",
    "    \n",
    "    if score > 90:\n",
    "        print(vaccine + \" is effective\")\n",
    "    else:\n",
    "        print(vaccine + \" is not effective\")"
   ]
  },
  {
   "cell_type": "code",
   "execution_count": null,
   "id": "7238a789",
   "metadata": {},
   "outputs": [],
   "source": []
  },
  {
   "cell_type": "code",
   "execution_count": 15,
   "id": "854ae92e",
   "metadata": {},
   "outputs": [
    {
     "data": {
      "text/plain": [
       "92"
      ]
     },
     "execution_count": 15,
     "metadata": {},
     "output_type": "execute_result"
    }
   ],
   "source": [
    "efficacy['Moderna']"
   ]
  },
  {
   "cell_type": "code",
   "execution_count": 20,
   "id": "dd7fb276",
   "metadata": {},
   "outputs": [
    {
     "name": "stdout",
     "output_type": "stream",
     "text": [
      "95\n",
      "92\n",
      "87\n"
     ]
    }
   ],
   "source": [
    "for vaccine in efficacy:\n",
    "    score = efficacy[vaccine]\n",
    "    print(score)"
   ]
  }
 ],
 "metadata": {
  "kernelspec": {
   "display_name": "Python 3",
   "language": "python",
   "name": "python3"
  },
  "language_info": {
   "codemirror_mode": {
    "name": "ipython",
    "version": 3
   },
   "file_extension": ".py",
   "mimetype": "text/x-python",
   "name": "python",
   "nbconvert_exporter": "python",
   "pygments_lexer": "ipython3",
   "version": "3.8.8"
  }
 },
 "nbformat": 4,
 "nbformat_minor": 5
}
