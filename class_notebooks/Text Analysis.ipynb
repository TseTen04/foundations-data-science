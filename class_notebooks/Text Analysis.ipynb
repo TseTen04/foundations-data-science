{
 "cells": [
  {
   "cell_type": "code",
   "execution_count": 1,
   "id": "f735df2a",
   "metadata": {},
   "outputs": [],
   "source": [
    "import pandas\n",
    "import requests"
   ]
  },
  {
   "cell_type": "code",
   "execution_count": 16,
   "id": "97e6b828",
   "metadata": {},
   "outputs": [],
   "source": [
    "text = requests.get('http://bit.ly/dracula_text').text"
   ]
  },
  {
   "cell_type": "code",
   "execution_count": 17,
   "id": "e7686ffd",
   "metadata": {},
   "outputs": [],
   "source": [
    "text_list = text.split()"
   ]
  },
  {
   "cell_type": "code",
   "execution_count": 20,
   "id": "0d73c649",
   "metadata": {},
   "outputs": [],
   "source": [
    "s = pandas.Series(text_list)"
   ]
  },
  {
   "cell_type": "code",
   "execution_count": null,
   "id": "f9788ea2",
   "metadata": {},
   "outputs": [],
   "source": []
  }
 ],
 "metadata": {
  "kernelspec": {
   "display_name": "Python 3",
   "language": "python",
   "name": "python3"
  },
  "language_info": {
   "codemirror_mode": {
    "name": "ipython",
    "version": 3
   },
   "file_extension": ".py",
   "mimetype": "text/x-python",
   "name": "python",
   "nbconvert_exporter": "python",
   "pygments_lexer": "ipython3",
   "version": "3.8.8"
  }
 },
 "nbformat": 4,
 "nbformat_minor": 5
}
