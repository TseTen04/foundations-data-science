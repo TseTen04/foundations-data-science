{
 "cells": [
  {
   "cell_type": "markdown",
   "id": "34430001",
   "metadata": {},
   "source": [
    "# Linear Regression"
   ]
  },
  {
   "cell_type": "markdown",
   "id": "c0a7f70d",
   "metadata": {},
   "source": [
    "Linear regression is a technique for predicting or extrapolating data based on past data. The technique depends on drawing a line that minimizes the distance between the line and previous data points.\n",
    "\n",
    "Here, we'll import a LinearRegression pbject that will allow us to calculate a line on a scatterplot that will minimize the distance to data points."
   ]
  },
  {
   "cell_type": "code",
   "execution_count": 2,
   "id": "ffb4493c",
   "metadata": {},
   "outputs": [],
   "source": [
    "import pandas\n",
    "import matplotlib.pyplot as plt\n",
    "from sklearn.linear_model import LinearRegression"
   ]
  },
  {
   "cell_type": "markdown",
   "id": "be135645",
   "metadata": {},
   "source": [
    "We'll use our cleaned electric car data set. (Wecleaned various columns in a previous class, turning strings with units into floats.)"
   ]
  },
  {
   "cell_type": "code",
   "execution_count": 3,
   "id": "22e4afa4",
   "metadata": {},
   "outputs": [],
   "source": [
    "df = pandas.read_csv('https://bit.ly/electric_car_cleaned')"
   ]
  },
  {
   "cell_type": "markdown",
   "id": "1b97f92b",
   "metadata": {},
   "source": [
    "Here, we \"reshape\" two columns. turning them from 1-dimensional data into 2-dimensional data. That means they get turned from a series of values to a list of lists. The next step requires that our data be 2D, even though it doesn't add more information."
   ]
  },
  {
   "cell_type": "code",
   "execution_count": 4,
   "id": "9d100918",
   "metadata": {},
   "outputs": [],
   "source": [
    "x = df.Efficiency.values.reshape(-1, 1)\n",
    "y = df.PriceinUK.values.reshape(-1, 1)\n"
   ]
  },
  {
   "cell_type": "markdown",
   "id": "8a2032c2",
   "metadata": {},
   "source": [
    "Our x and y variables are now 2D arrays. (An array is another word for a list, broadly speaking.)"
   ]
  },
  {
   "cell_type": "code",
   "execution_count": 9,
   "id": "ee62921b",
   "metadata": {},
   "outputs": [
    {
     "data": {
      "text/plain": [
       "array([[194.],\n",
       "       [164.],\n",
       "       [231.],\n",
       "       [215.],\n",
       "       [218.]])"
      ]
     },
     "execution_count": 9,
     "metadata": {},
     "output_type": "execute_result"
    }
   ],
   "source": [
    "# Get the first five items in x, so you can see what the data\n",
    "# looks like\n",
    "x[:5]"
   ]
  },
  {
   "cell_type": "markdown",
   "id": "a143efaa",
   "metadata": {},
   "source": [
    "Our LinearRegression is a \"class,\" meaning a blueprint that we can create objects from. Here, we create an object that we'll use to perform and store our calculation. Then we use the \"fit\" method to calculate the line."
   ]
  },
  {
   "cell_type": "code",
   "execution_count": 10,
   "id": "b6cdcd0f",
   "metadata": {},
   "outputs": [
    {
     "data": {
      "text/plain": [
       "LinearRegression()"
      ]
     },
     "execution_count": 10,
     "metadata": {},
     "output_type": "execute_result"
    }
   ],
   "source": [
    "regressor  = LinearRegression()\n",
    "\n",
    "regressor.fit(x, y)"
   ]
  },
  {
   "cell_type": "markdown",
   "id": "74f37992",
   "metadata": {},
   "source": [
    "In this step, we tell our regressor object which variable we'll be using as the independent variable, and which will be the dependent variable. The dependent variable is what we're predicting, the independent variable is the data we use to make the prediction."
   ]
  },
  {
   "cell_type": "code",
   "execution_count": 11,
   "id": "a16bc9e9",
   "metadata": {},
   "outputs": [],
   "source": [
    "y_predicted = regressor.predict(x)"
   ]
  },
  {
   "cell_type": "markdown",
   "id": "710cea3a",
   "metadata": {},
   "source": [
    "Before, we use the .plot method on our Pandas data frames to plot the chart. THat's fine, but the below method lets us plot multiple items on the same chart. `plt` is the pyplot module, part of the matplotlib visualization library."
   ]
  },
  {
   "cell_type": "code",
   "execution_count": 16,
   "id": "9eca3d20",
   "metadata": {},
   "outputs": [
    {
     "data": {
      "text/plain": [
       "[<matplotlib.lines.Line2D at 0x7fb21f39feb0>]"
      ]
     },
     "execution_count": 16,
     "metadata": {},
     "output_type": "execute_result"
    },
    {
     "data": {
      "image/png": "[encoded data removed]",
      "text/plain": [
       "<Figure size 432x288 with 1 Axes>"
      ]
     },
     "metadata": {
      "needs_background": "light"
     },
     "output_type": "display_data"
    }
   ],
   "source": [
    "plt.scatter(x, y, color='blue')\n",
    "plt.ylabel('Price in UK')\n",
    "plt.xlabel('Eff.')\n",
    "plt.title('Predicted Price of EV Vehicles Given Efficiency')\n",
    "plt.plot(x, y_predicted, color='green')"
   ]
  },
  {
   "cell_type": "markdown",
   "id": "5498c413",
   "metadata": {},
   "source": [
    "The coefficient is the amount price increases for every watt hour of efficiency. This determines the slope of the graph."
   ]
  },
  {
   "cell_type": "code",
   "execution_count": 17,
   "id": "526d0492",
   "metadata": {},
   "outputs": [
    {
     "data": {
      "text/plain": [
       "array([[337.05520865]])"
      ]
     },
     "execution_count": 17,
     "metadata": {},
     "output_type": "execute_result"
    }
   ],
   "source": [
    "regressor.coef_"
   ]
  },
  {
   "cell_type": "markdown",
   "id": "841aa1ce",
   "metadata": {},
   "source": [
    "When an electric vehicle increases in efficiency by one W/h, we can expect the price to increase on average by about $337. This determines the slope of the predictive line on our graph."
   ]
  }
 ],
 "metadata": {
  "kernelspec": {
   "display_name": "Python 3",
   "language": "python",
   "name": "python3"
  },
  "language_info": {
   "codemirror_mode": {
    "name": "ipython",
    "version": 3
   },
   "file_extension": ".py",
   "mimetype": "text/x-python",
   "name": "python",
   "nbconvert_exporter": "python",
   "pygments_lexer": "ipython3",
   "version": "3.8.8"
  }
 },
 "nbformat": 4,
 "nbformat_minor": 5
}
