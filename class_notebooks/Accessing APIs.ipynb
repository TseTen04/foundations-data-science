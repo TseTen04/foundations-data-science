{
 "cells": [
  {
   "cell_type": "code",
   "execution_count": 2,
   "id": "2c1519b4",
   "metadata": {},
   "outputs": [],
   "source": [
    "import pandas\n",
    "import requests"
   ]
  },
  {
   "cell_type": "code",
   "execution_count": 7,
   "id": "0eeebe5c",
   "metadata": {},
   "outputs": [],
   "source": [
    "response = requests.get('http://chroniclingamerica.loc.gov/newspapers.json')"
   ]
  },
  {
   "cell_type": "code",
   "execution_count": 20,
   "id": "4bed312a",
   "metadata": {},
   "outputs": [
    {
     "data": {
      "text/plain": [
       "<Response [200]>"
      ]
     },
     "execution_count": 20,
     "metadata": {},
     "output_type": "execute_result"
    }
   ],
   "source": [
    "response"
   ]
  },
  {
   "cell_type": "code",
   "execution_count": 24,
   "id": "669075d0",
   "metadata": {},
   "outputs": [],
   "source": [
    "json_data = response.json()"
   ]
  },
  {
   "cell_type": "code",
   "execution_count": 28,
   "id": "0c64df00",
   "metadata": {},
   "outputs": [
    {
     "data": {
      "text/plain": [
       "dict_keys(['newspapers'])"
      ]
     },
     "execution_count": 28,
     "metadata": {},
     "output_type": "execute_result"
    }
   ],
   "source": [
    "json_data.keys()"
   ]
  },
  {
   "cell_type": "code",
   "execution_count": 32,
   "id": "a263667f",
   "metadata": {},
   "outputs": [],
   "source": [
    "newspapers = json_data['newspapers']"
   ]
  },
  {
   "cell_type": "code",
   "execution_count": 35,
   "id": "27d0436e",
   "metadata": {},
   "outputs": [
    {
     "data": {
      "text/plain": [
       "list"
      ]
     },
     "execution_count": 35,
     "metadata": {},
     "output_type": "execute_result"
    }
   ],
   "source": [
    "type(newspapers)"
   ]
  },
  {
   "cell_type": "code",
   "execution_count": 37,
   "id": "3eb52561",
   "metadata": {},
   "outputs": [
    {
     "data": {
      "text/plain": [
       "3756"
      ]
     },
     "execution_count": 37,
     "metadata": {},
     "output_type": "execute_result"
    }
   ],
   "source": [
    "len(newspapers)"
   ]
  },
  {
   "cell_type": "code",
   "execution_count": 39,
   "id": "13d61964",
   "metadata": {},
   "outputs": [
    {
     "data": {
      "text/plain": [
       "{'lccn': 'sn84021903',\n",
       " 'url': 'https://chroniclingamerica.loc.gov/lccn/sn84021903.json',\n",
       " 'state': 'Alabama',\n",
       " 'title': 'Alabama state intelligencer. [volume]'}"
      ]
     },
     "execution_count": 39,
     "metadata": {},
     "output_type": "execute_result"
    }
   ],
   "source": [
    "newspapers[1]"
   ]
  },
  {
   "cell_type": "code",
   "execution_count": 41,
   "id": "11d9a749",
   "metadata": {},
   "outputs": [],
   "source": [
    "df = pandas.DataFrame(newspapers)"
   ]
  },
  {
   "cell_type": "code",
   "execution_count": 45,
   "id": "61efaffe",
   "metadata": {},
   "outputs": [
    {
     "data": {
      "text/plain": [
       "25"
      ]
     },
     "execution_count": 45,
     "metadata": {},
     "output_type": "execute_result"
    }
   ],
   "source": [
    "df.state.value_counts()['New York']"
   ]
  }
 ],
 "metadata": {
  "kernelspec": {
   "display_name": "Python 3",
   "language": "python",
   "name": "python3"
  },
  "language_info": {
   "codemirror_mode": {
    "name": "ipython",
    "version": 3
   },
   "file_extension": ".py",
   "mimetype": "text/x-python",
   "name": "python",
   "nbconvert_exporter": "python",
   "pygments_lexer": "ipython3",
   "version": "3.8.8"
  }
 },
 "nbformat": 4,
 "nbformat_minor": 5
}
